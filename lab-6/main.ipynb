{
 "cells": [
  {
   "cell_type": "markdown",
   "metadata": {},
   "source": [
    "### Authors:\n",
    "\n",
    "Marek Szydłowski 136633<br>\n",
    "Wojciech Tomczak 145467\n",
    "\n",
    "Link to the source code: https://github.com/Vosloo/evolutionary-computation-labs"
   ]
  },
  {
   "cell_type": "code",
   "execution_count": 1,
   "metadata": {},
   "outputs": [],
   "source": [
    "import sys\n",
    "from pathlib import Path\n",
    "import numpy as np\n",
    "import pandas as pd\n",
    "\n",
    "from multiprocessing import Pool\n",
    "import pickle\n",
    "\n",
    "from IPython.display import display, Markdown"
   ]
  },
  {
   "cell_type": "code",
   "execution_count": 2,
   "metadata": {},
   "outputs": [],
   "source": [
    "module_path = Path.cwd().parent\n",
    "if module_path not in sys.path:\n",
    "    sys.path.append(str(module_path))"
   ]
  },
  {
   "cell_type": "code",
   "execution_count": 3,
   "metadata": {},
   "outputs": [],
   "source": [
    "from src.tsp_problem import TSPProblem\n",
    "from src.algorithms.methods import Method\n",
    "from src.visualization import Visualizer"
   ]
  },
  {
   "cell_type": "code",
   "execution_count": 4,
   "metadata": {},
   "outputs": [
    {
     "name": "stdout",
     "output_type": "stream",
     "text": [
      "Loaded 4 instances: TSPA, TSPB, TSPC, TSPD\n",
      "Available methods: ['RANDOM', 'NEAREST', 'GREEDY_CYCLE', 'GREEDY_REGRET', 'GREEDY_REGRET_WEIGHTED', 'LOCAL_SEARCH_STEEPEST_NODES_RANDOM', 'LOCAL_SEARCH_STEEPEST_NODES_HEURISTIC', 'LOCAL_SEARCH_STEEPEST_EDGES_RANDOM', 'LOCAL_SEARCH_STEEPEST_EDGES_HEURISTIC', 'LOCAL_SEARCH_GREEDY_NODES_RANDOM', 'LOCAL_SEARCH_GREEDY_NODES_HEURISTIC', 'LOCAL_SEARCH_GREEDY_EDGES_RANDOM', 'LOCAL_SEARCH_GREEDY_EDGES_HEURISTIC', 'LOCAL_SEARCH_CANDIDATES_RANDOM', 'LOCAL_SEARCH_CANDIDATES_HEURISTIC', 'LOCAL_SEARCH_MOVES_RANDOM', 'LOCAL_SEARCH_MSLS']\n"
     ]
    }
   ],
   "source": [
    "problem = TSPProblem(no_runs=20)\n"
   ]
  },
  {
   "cell_type": "code",
   "execution_count": 5,
   "metadata": {},
   "outputs": [
    {
     "name": "stdout",
     "output_type": "stream",
     "text": [
      "\n",
      "Running TSPC instance\n",
      "Running LOCAL_SEARCH_MSLS method for 20 runs\n",
      "Finished LOCAL_SEARCH_MSLS method in 2100.66s\n",
      "\n",
      "Running TSPD instance\n",
      "Running LOCAL_SEARCH_MSLS method for 20 runs\n",
      "Finished LOCAL_SEARCH_MSLS method in 2042.32s\n"
     ]
    }
   ],
   "source": [
    "grades = problem.run(\n",
    "    [\"TSPC\", \"TSPD\"],\n",
    "    [\n",
    "        Method.LOCAL_SEARCH_MSLS,\n",
    "    ],\n",
    ")\n"
   ]
  },
  {
   "cell_type": "code",
   "execution_count": 6,
   "metadata": {},
   "outputs": [],
   "source": [
    "pickle.dump(grades, open(\"grades.pkl\", \"wb\"))"
   ]
  },
  {
   "cell_type": "code",
   "execution_count": 7,
   "metadata": {},
   "outputs": [
    {
     "name": "stdout",
     "output_type": "stream",
     "text": [
      "\n",
      "TSPC:\n",
      "----\n",
      "Local Search Msls: \n",
      "==================================== Grade =====================================\n",
      "Method:                                 Local Search Msls\n",
      "Best run id:                            127\n",
      "Best run cost:                          36907\n",
      "Best run distance:                      21623\n",
      "Best run score:                         58530\n",
      "Min score:                              58530\n",
      "Avg score:                              59333\n",
      "Max score:                              60368\n",
      "================================================================================\n",
      "\n",
      "\n",
      "TSPD:\n",
      "----\n",
      "Local Search Msls: \n",
      "==================================== Grade =====================================\n",
      "Method:                                 Local Search Msls\n",
      "Best run id:                            153\n",
      "Best run cost:                          31708\n",
      "Best run distance:                      23035\n",
      "Best run score:                         54743\n",
      "Min score:                              54743\n",
      "Avg score:                              57250\n",
      "Max score:                              58627\n",
      "================================================================================\n",
      "\n"
     ]
    }
   ],
   "source": [
    "for instance_name, instance_grades in grades.items():\n",
    "    print(f\"\\n{instance_name}:\")\n",
    "    print(\"----\")\n",
    "    for method_name, grade in instance_grades.items():\n",
    "        meth_name = method_name.value.replace(\"_\", \" \").title()\n",
    "        print(f\"{meth_name}: {grade}\")"
   ]
  }
 ],
 "metadata": {
  "kernelspec": {
   "display_name": "Python 3.11.0 ('ec')",
   "language": "python",
   "name": "python3"
  },
  "language_info": {
   "codemirror_mode": {
    "name": "ipython",
    "version": 3
   },
   "file_extension": ".py",
   "mimetype": "text/x-python",
   "name": "python",
   "nbconvert_exporter": "python",
   "pygments_lexer": "ipython3",
   "version": "3.11.0"
  },
  "orig_nbformat": 4,
  "vscode": {
   "interpreter": {
    "hash": "f3b73c587bed838ec8d741617e575e1fd45bc5e76b28dffabb041a8164fe5aa1"
   }
  }
 },
 "nbformat": 4,
 "nbformat_minor": 2
}
