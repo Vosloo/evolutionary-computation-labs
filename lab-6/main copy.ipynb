{
 "cells": [
  {
   "cell_type": "code",
   "execution_count": 1,
   "metadata": {},
   "outputs": [],
   "source": [
    "import sys\n",
    "from pathlib import Path\n",
    "import numpy as np\n",
    "import pandas as pd\n",
    "\n",
    "from multiprocessing import Pool\n",
    "import pickle\n",
    "\n",
    "from IPython.display import display, Markdown"
   ]
  },
  {
   "cell_type": "code",
   "execution_count": 2,
   "metadata": {},
   "outputs": [],
   "source": [
    "module_path = Path.cwd().parent\n",
    "if module_path not in sys.path:\n",
    "    sys.path.append(str(module_path))"
   ]
  },
  {
   "cell_type": "code",
   "execution_count": 3,
   "metadata": {},
   "outputs": [],
   "source": [
    "from src.tsp_problem import TSPProblem\n",
    "from src.algorithms.methods import Method\n",
    "from src.visualization import Visualizer"
   ]
  },
  {
   "cell_type": "code",
   "execution_count": 4,
   "metadata": {},
   "outputs": [
    {
     "name": "stdout",
     "output_type": "stream",
     "text": [
      "Loaded 4 instances: TSPA, TSPB, TSPC, TSPD\n",
      "Available methods: ['RANDOM', 'NEAREST', 'GREEDY_CYCLE', 'GREEDY_REGRET', 'GREEDY_REGRET_WEIGHTED', 'LOCAL_SEARCH_STEEPEST_NODES_RANDOM', 'LOCAL_SEARCH_STEEPEST_NODES_HEURISTIC', 'LOCAL_SEARCH_STEEPEST_EDGES_RANDOM', 'LOCAL_SEARCH_STEEPEST_EDGES_HEURISTIC', 'LOCAL_SEARCH_GREEDY_NODES_RANDOM', 'LOCAL_SEARCH_GREEDY_NODES_HEURISTIC', 'LOCAL_SEARCH_GREEDY_EDGES_RANDOM', 'LOCAL_SEARCH_GREEDY_EDGES_HEURISTIC', 'LOCAL_SEARCH_CANDIDATES_RANDOM', 'LOCAL_SEARCH_CANDIDATES_HEURISTIC', 'LOCAL_SEARCH_MOVES_RANDOM', 'LOCAL_SEARCH_MSLS']\n"
     ]
    }
   ],
   "source": [
    "problem = TSPProblem(no_runs=20)\n"
   ]
  },
  {
   "cell_type": "code",
   "execution_count": 5,
   "metadata": {},
   "outputs": [
    {
     "name": "stdout",
     "output_type": "stream",
     "text": [
      "\n",
      "Running TSPC instance\n",
      "Running RANDOM method for 20 runs\n",
      "Finished RANDOM method in 0.02s\n",
      "Running LOCAL_SEARCH_MSLS method for 20 runs\n",
      "  2 / 200"
     ]
    },
    {
     "ename": "ValueError",
     "evalue": "Nodes already have connections!",
     "output_type": "error",
     "traceback": [
      "\u001b[0;31m---------------------------------------------------------------------------\u001b[0m",
      "\u001b[0;31mValueError\u001b[0m                                Traceback (most recent call last)",
      "Cell \u001b[0;32mIn[5], line 1\u001b[0m\n\u001b[0;32m----> 1\u001b[0m grades \u001b[39m=\u001b[39m problem\u001b[39m.\u001b[39;49mrun(\n\u001b[1;32m      2\u001b[0m     [\u001b[39m\"\u001b[39;49m\u001b[39mTSPC\u001b[39;49m\u001b[39m\"\u001b[39;49m, \u001b[39m\"\u001b[39;49m\u001b[39mTSPD\u001b[39;49m\u001b[39m\"\u001b[39;49m],\n\u001b[1;32m      3\u001b[0m     [\n\u001b[1;32m      4\u001b[0m         Method\u001b[39m.\u001b[39;49mRANDOM,\n\u001b[1;32m      5\u001b[0m         Method\u001b[39m.\u001b[39;49mLOCAL_SEARCH_MSLS,\n\u001b[1;32m      6\u001b[0m     ],\n\u001b[1;32m      7\u001b[0m )\n",
      "File \u001b[0;32m~/Projects/Python/evolutionary-computation-labs/src/tsp_problem.py:129\u001b[0m, in \u001b[0;36mTSPProblem.run\u001b[0;34m(self, instances, methods)\u001b[0m\n\u001b[1;32m    127\u001b[0m     distance_matrix \u001b[39m=\u001b[39m DistanceMatrix(instance)\n\u001b[1;32m    128\u001b[0m     nodes \u001b[39m=\u001b[39m \u001b[39mself\u001b[39m\u001b[39m.\u001b[39m_get_nodes(instance)\n\u001b[0;32m--> 129\u001b[0m     grades \u001b[39m=\u001b[39m \u001b[39mself\u001b[39;49m\u001b[39m.\u001b[39;49m_grade_methods(instance_name, nodes, distance_matrix, methods)\n\u001b[1;32m    130\u001b[0m     instance_grades[instance_name] \u001b[39m=\u001b[39m grades\n\u001b[1;32m    132\u001b[0m \u001b[39mreturn\u001b[39;00m instance_grades\n",
      "File \u001b[0;32m~/Projects/Python/evolutionary-computation-labs/src/tsp_problem.py:208\u001b[0m, in \u001b[0;36mTSPProblem._grade_methods\u001b[0;34m(self, instance_name, nodes, distance_matrix, methods)\u001b[0m\n\u001b[1;32m    206\u001b[0m \u001b[39mprint\u001b[39m(\u001b[39mf\u001b[39m\u001b[39m\"\u001b[39m\u001b[39mRunning \u001b[39m\u001b[39m{\u001b[39;00mmethod_name\u001b[39m.\u001b[39mname\u001b[39m}\u001b[39;00m\u001b[39m method for \u001b[39m\u001b[39m{\u001b[39;00m\u001b[39mself\u001b[39m\u001b[39m.\u001b[39mno_runs\u001b[39m}\u001b[39;00m\u001b[39m runs\u001b[39m\u001b[39m\"\u001b[39m)\n\u001b[1;32m    207\u001b[0m start \u001b[39m=\u001b[39m perf_counter()\n\u001b[0;32m--> 208\u001b[0m grade \u001b[39m=\u001b[39m \u001b[39mself\u001b[39;49m\u001b[39m.\u001b[39;49m_grade_method(instance_name, nodes, method_name, method, distance_matrix)\n\u001b[1;32m    209\u001b[0m \u001b[39mif\u001b[39;00m method_name \u001b[39m==\u001b[39m Method\u001b[39m.\u001b[39mGREEDY_REGRET_WEIGHTED:\n\u001b[1;32m    210\u001b[0m     \u001b[39mself\u001b[39m\u001b[39m.\u001b[39mheuristic_grade[instance_name] \u001b[39m=\u001b[39m grade\n",
      "File \u001b[0;32m~/Projects/Python/evolutionary-computation-labs/src/tsp_problem.py:179\u001b[0m, in \u001b[0;36mTSPProblem._grade_method\u001b[0;34m(self, instance_name, nodes, method_name, method, distance_matrix)\u001b[0m\n\u001b[1;32m    169\u001b[0m     initial_solution \u001b[39m=\u001b[39m \u001b[39mNone\u001b[39;00m\n\u001b[1;32m    171\u001b[0m parameters \u001b[39m=\u001b[39m {\n\u001b[1;32m    172\u001b[0m     \u001b[39m\"\u001b[39m\u001b[39mpivot_node\u001b[39m\u001b[39m\"\u001b[39m: pivot_node,\n\u001b[1;32m    173\u001b[0m     \u001b[39m\"\u001b[39m\u001b[39mnodes\u001b[39m\u001b[39m\"\u001b[39m: nodes_cp,\n\u001b[0;32m   (...)\u001b[0m\n\u001b[1;32m    176\u001b[0m     \u001b[39m\"\u001b[39m\u001b[39minitial_solution\u001b[39m\u001b[39m\"\u001b[39m: initial_solution,\n\u001b[1;32m    177\u001b[0m } \u001b[39m|\u001b[39m params[method_name]\n\u001b[0;32m--> 179\u001b[0m selected_nodes \u001b[39m=\u001b[39m method(\u001b[39m*\u001b[39;49m\u001b[39m*\u001b[39;49mparameters)\n\u001b[1;32m    180\u001b[0m first_node \u001b[39m=\u001b[39m selected_nodes[\u001b[39m0\u001b[39m]\n\u001b[1;32m    182\u001b[0m curr_run \u001b[39m=\u001b[39m Run(first_node\u001b[39m.\u001b[39mid, selected_nodes, distance_matrix)\n",
      "File \u001b[0;32m~/Projects/Python/evolutionary-computation-labs/src/algorithms/local_search_MSLS.py:26\u001b[0m, in \u001b[0;36mlocal_search_MSLS\u001b[0;34m(nodes, distance_matrix, no_iterations, **kwargs)\u001b[0m\n\u001b[1;32m     24\u001b[0m \u001b[39mfor\u001b[39;00m _ \u001b[39min\u001b[39;00m \u001b[39mrange\u001b[39m(no_iterations):\n\u001b[1;32m     25\u001b[0m     \u001b[39mprint\u001b[39m(\u001b[39mf\u001b[39m\u001b[39m\"\u001b[39m\u001b[39m\\r\u001b[39;00m\u001b[39m{\u001b[39;00m_ \u001b[39m+\u001b[39m \u001b[39m1\u001b[39m\u001b[39m:\u001b[39;00m\u001b[39m3\u001b[39m\u001b[39m}\u001b[39;00m\u001b[39m / \u001b[39m\u001b[39m{\u001b[39;00mno_iterations\u001b[39m:\u001b[39;00m\u001b[39m3\u001b[39m\u001b[39m}\u001b[39;00m\u001b[39m\"\u001b[39m, end\u001b[39m=\u001b[39m\u001b[39m\"\u001b[39m\u001b[39m\"\u001b[39m)\n\u001b[0;32m---> 26\u001b[0m     initial_solution \u001b[39m=\u001b[39m random(nodes, \u001b[39m*\u001b[39;49m\u001b[39m*\u001b[39;49mkwargs)\n\u001b[1;32m     27\u001b[0m     nodes_runs\u001b[39m.\u001b[39mappend(\n\u001b[1;32m     28\u001b[0m         local_search_moves(\n\u001b[1;32m     29\u001b[0m             initial_solution\u001b[39m=\u001b[39minitial_solution,\n\u001b[0;32m   (...)\u001b[0m\n\u001b[1;32m     33\u001b[0m         )\n\u001b[1;32m     34\u001b[0m     )\n\u001b[1;32m     36\u001b[0m runs \u001b[39m=\u001b[39m [Run(selected_nodes[\u001b[39m0\u001b[39m]\u001b[39m.\u001b[39mid, selected_nodes, distance_matrix) \u001b[39mfor\u001b[39;00m selected_nodes \u001b[39min\u001b[39;00m nodes_runs]\n",
      "File \u001b[0;32m~/Projects/Python/evolutionary-computation-labs/src/algorithms/random.py:8\u001b[0m, in \u001b[0;36mrandom\u001b[0;34m(nodes, node_coverage, **kwargs)\u001b[0m\n\u001b[1;32m      7\u001b[0m \u001b[39mdef\u001b[39;00m \u001b[39mrandom\u001b[39m(nodes: \u001b[39mlist\u001b[39m[Node], node_coverage: \u001b[39mint\u001b[39m, \u001b[39m*\u001b[39m\u001b[39m*\u001b[39mkwargs) \u001b[39m-\u001b[39m\u001b[39m>\u001b[39m \u001b[39mlist\u001b[39m[Node]:\n\u001b[0;32m----> 8\u001b[0m     \u001b[39mreturn\u001b[39;00m sort_connections(sample(nodes, node_coverage))\n",
      "File \u001b[0;32m~/Projects/Python/evolutionary-computation-labs/src/utils.py:54\u001b[0m, in \u001b[0;36msort_connections\u001b[0;34m(nodes)\u001b[0m\n\u001b[1;32m     52\u001b[0m     curr_node \u001b[39m=\u001b[39m nodes[i]\n\u001b[1;32m     53\u001b[0m     prev_node \u001b[39m=\u001b[39m nodes[i \u001b[39m-\u001b[39m \u001b[39m1\u001b[39m]\n\u001b[0;32m---> 54\u001b[0m     curr_node\u001b[39m.\u001b[39;49madd_prev_connection(prev_node)\n\u001b[1;32m     56\u001b[0m nodes[\u001b[39m-\u001b[39m\u001b[39m1\u001b[39m]\u001b[39m.\u001b[39madd_next_connection(nodes[\u001b[39m0\u001b[39m])\n\u001b[1;32m     58\u001b[0m \u001b[39mreturn\u001b[39;00m nodes\n",
      "File \u001b[0;32m~/Projects/Python/evolutionary-computation-labs/src/model/node.py:15\u001b[0m, in \u001b[0;36mNode.add_prev_connection\u001b[0;34m(self, node)\u001b[0m\n\u001b[1;32m     13\u001b[0m \u001b[39mdef\u001b[39;00m \u001b[39madd_prev_connection\u001b[39m(\u001b[39mself\u001b[39m, node: Node) \u001b[39m-\u001b[39m\u001b[39m>\u001b[39m \u001b[39mNone\u001b[39;00m:\n\u001b[1;32m     14\u001b[0m     \u001b[39mif\u001b[39;00m \u001b[39mself\u001b[39m\u001b[39m.\u001b[39mprev_connection \u001b[39mis\u001b[39;00m \u001b[39mnot\u001b[39;00m \u001b[39mNone\u001b[39;00m \u001b[39mor\u001b[39;00m node\u001b[39m.\u001b[39mnext_connection \u001b[39mis\u001b[39;00m \u001b[39mnot\u001b[39;00m \u001b[39mNone\u001b[39;00m:\n\u001b[0;32m---> 15\u001b[0m         \u001b[39mraise\u001b[39;00m \u001b[39mValueError\u001b[39;00m(\u001b[39m\"\u001b[39m\u001b[39mNodes already have connections!\u001b[39m\u001b[39m\"\u001b[39m)\n\u001b[1;32m     17\u001b[0m     \u001b[39mself\u001b[39m\u001b[39m.\u001b[39mprev_connection \u001b[39m=\u001b[39m node\n\u001b[1;32m     18\u001b[0m     node\u001b[39m.\u001b[39mnext_connection \u001b[39m=\u001b[39m \u001b[39mself\u001b[39m\n",
      "\u001b[0;31mValueError\u001b[0m: Nodes already have connections!"
     ]
    }
   ],
   "source": [
    "grades = problem.run(\n",
    "    [\"TSPC\", \"TSPD\"],\n",
    "    [\n",
    "        Method.RANDOM_SEQUENCE,\n",
    "        Method.LOCAL_SEARCH_MSLS,\n",
    "    ],\n",
    ")\n"
   ]
  }
 ],
 "metadata": {
  "kernelspec": {
   "display_name": "ec",
   "language": "python",
   "name": "python3"
  },
  "language_info": {
   "codemirror_mode": {
    "name": "ipython",
    "version": 3
   },
   "file_extension": ".py",
   "mimetype": "text/x-python",
   "name": "python",
   "nbconvert_exporter": "python",
   "pygments_lexer": "ipython3",
   "version": "3.11.0"
  },
  "orig_nbformat": 4,
  "vscode": {
   "interpreter": {
    "hash": "1e30a881f08a0c4073d89b6283bcc77c203b3a40b1ec249f3d329929b6c90ee9"
   }
  }
 },
 "nbformat": 4,
 "nbformat_minor": 2
}
