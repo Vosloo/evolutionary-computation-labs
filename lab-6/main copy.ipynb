{
 "cells": [
  {
   "cell_type": "markdown",
   "metadata": {},
   "source": [
    "### Authors:\n",
    "\n",
    "Marek Szydłowski 136633<br>\n",
    "Wojciech Tomczak 145467\n",
    "\n",
    "Link to the source code: https://github.com/Vosloo/evolutionary-computation-labs"
   ]
  },
  {
   "cell_type": "code",
   "execution_count": 1,
   "metadata": {},
   "outputs": [],
   "source": [
    "import sys\n",
    "from pathlib import Path\n",
    "import numpy as np\n",
    "import pandas as pd\n",
    "\n",
    "from multiprocessing import Pool\n",
    "import pickle\n",
    "\n",
    "from IPython.display import display, Markdown"
   ]
  },
  {
   "cell_type": "code",
   "execution_count": 2,
   "metadata": {},
   "outputs": [],
   "source": [
    "module_path = Path.cwd().parent\n",
    "if module_path not in sys.path:\n",
    "    sys.path.append(str(module_path))"
   ]
  },
  {
   "cell_type": "code",
   "execution_count": 3,
   "metadata": {},
   "outputs": [],
   "source": [
    "from src.tsp_problem import TSPProblem\n",
    "from src.algorithms.methods import Method\n",
    "from src.visualization import Visualizer"
   ]
  },
  {
   "cell_type": "code",
   "execution_count": 4,
   "metadata": {},
   "outputs": [
    {
     "name": "stdout",
     "output_type": "stream",
     "text": [
      "Loaded 4 instances: TSPA, TSPB, TSPC, TSPD\n",
      "Available methods: ['RANDOM_SEQUENCE', 'NEAREST', 'GREEDY_CYCLE', 'GREEDY_REGRET', 'GREEDY_REGRET_WEIGHTED', 'LOCAL_SEARCH_STEEPEST_NODES_RANDOM', 'LOCAL_SEARCH_STEEPEST_NODES_HEURISTIC', 'LOCAL_SEARCH_STEEPEST_EDGES_RANDOM', 'LOCAL_SEARCH_STEEPEST_EDGES_HEURISTIC', 'LOCAL_SEARCH_GREEDY_NODES_RANDOM', 'LOCAL_SEARCH_GREEDY_NODES_HEURISTIC', 'LOCAL_SEARCH_GREEDY_EDGES_RANDOM', 'LOCAL_SEARCH_GREEDY_EDGES_HEURISTIC', 'LOCAL_SEARCH_CANDIDATES_RANDOM', 'LOCAL_SEARCH_CANDIDATES_HEURISTIC', 'LOCAL_SEARCH_MOVES_RANDOM', 'LOCAL_SEARCH_MSLS', 'LOCAL_SEARCH_ITERATIVE']\n"
     ]
    }
   ],
   "source": [
    "problem = TSPProblem(no_runs=20)"
   ]
  },
  {
   "cell_type": "code",
   "execution_count": 5,
   "metadata": {},
   "outputs": [
    {
     "name": "stdout",
     "output_type": "stream",
     "text": [
      "\n",
      "Running TSPC instance\n",
      "Running LOCAL_SEARCH_ITERATIVE method for 20 runs\n",
      "  1 /  20\n",
      "Is random sequence valid? True\n",
      "Is pre-loop local search sequence valid? True\n",
      "Perturbation\n",
      "sequence_nodes.intersection(unsequenced_nodes): set()\n",
      "old_nodes: [72, 43, 160, 185]\n",
      "Any old is in unsequenced: False\n",
      "new_nodes: [27, 34, 122, 39]\n",
      "Any new is in sequenced: False\n",
      "Is perturbation sequence valid? True\n",
      "Is post-loop local search sequence valid? True\n",
      "Perturbation\n",
      "sequence_nodes.intersection(unsequenced_nodes): set()\n",
      "old_nodes: [161, 101, 141, 135]\n",
      "Any old is in unsequenced: False\n",
      "new_nodes: [146, 131, 86, 173]\n",
      "Any new is in sequenced: False\n",
      "Is perturbation sequence valid? True\n",
      "Is post-loop local search sequence valid? True\n",
      "Perturbation\n",
      "sequence_nodes.intersection(unsequenced_nodes): set()\n",
      "old_nodes: [108, 128, 51, 171]\n",
      "Any old is in unsequenced: False\n",
      "new_nodes: [57, 17, 16, 44]\n",
      "Any new is in sequenced: False\n",
      "Is perturbation sequence valid? True\n",
      "Is post-loop local search sequence valid? True\n",
      "Perturbation\n",
      "sequence_nodes.intersection(unsequenced_nodes): set()\n",
      "old_nodes: [108, 178, 74, 19]\n",
      "Any old is in unsequenced: False\n",
      "new_nodes: [54, 44, 123, 154]\n",
      "Any new is in sequenced: False\n",
      "Is perturbation sequence valid? True\n",
      "Is post-loop local search sequence valid? True\n",
      "Perturbation\n",
      "sequence_nodes.intersection(unsequenced_nodes): set()\n",
      "old_nodes: [186, 8, 195, 108]\n",
      "Any old is in unsequenced: False\n",
      "new_nodes: [176, 23, 86, 120]\n",
      "Any new is in sequenced: False\n",
      "Is perturbation sequence valid? True\n",
      "Is post-loop local search sequence valid? True\n",
      "Perturbation\n",
      "sequence_nodes.intersection(unsequenced_nodes): set()\n",
      "old_nodes: [121, 156, 189, 194]\n",
      "Any old is in unsequenced: False\n",
      "new_nodes: [131, 166, 99, 161]\n",
      "Any new is in sequenced: False\n",
      "Is perturbation sequence valid? True\n"
     ]
    },
    {
     "ename": "ValueError",
     "evalue": "Nodes already have connections!",
     "output_type": "error",
     "traceback": [
      "\u001b[0;31m---------------------------------------------------------------------------\u001b[0m",
      "\u001b[0;31mValueError\u001b[0m                                Traceback (most recent call last)",
      "\u001b[1;32m/home/marek/Projects/Python/evolutionary-computation-labs/lab-6/main copy.ipynb Cell 6\u001b[0m in \u001b[0;36m<cell line: 1>\u001b[0;34m()\u001b[0m\n\u001b[0;32m----> <a href='vscode-notebook-cell:/home/marek/Projects/Python/evolutionary-computation-labs/lab-6/main%20copy.ipynb#W5sZmlsZQ%3D%3D?line=0'>1</a>\u001b[0m grades \u001b[39m=\u001b[39m problem\u001b[39m.\u001b[39;49mrun(\n\u001b[1;32m      <a href='vscode-notebook-cell:/home/marek/Projects/Python/evolutionary-computation-labs/lab-6/main%20copy.ipynb#W5sZmlsZQ%3D%3D?line=1'>2</a>\u001b[0m     [\u001b[39m\"\u001b[39;49m\u001b[39mTSPC\u001b[39;49m\u001b[39m\"\u001b[39;49m, \u001b[39m\"\u001b[39;49m\u001b[39mTSPD\u001b[39;49m\u001b[39m\"\u001b[39;49m],\n\u001b[1;32m      <a href='vscode-notebook-cell:/home/marek/Projects/Python/evolutionary-computation-labs/lab-6/main%20copy.ipynb#W5sZmlsZQ%3D%3D?line=2'>3</a>\u001b[0m     [\n\u001b[1;32m      <a href='vscode-notebook-cell:/home/marek/Projects/Python/evolutionary-computation-labs/lab-6/main%20copy.ipynb#W5sZmlsZQ%3D%3D?line=3'>4</a>\u001b[0m         Method\u001b[39m.\u001b[39;49mLOCAL_SEARCH_ITERATIVE,\n\u001b[1;32m      <a href='vscode-notebook-cell:/home/marek/Projects/Python/evolutionary-computation-labs/lab-6/main%20copy.ipynb#W5sZmlsZQ%3D%3D?line=4'>5</a>\u001b[0m     ],\n\u001b[1;32m      <a href='vscode-notebook-cell:/home/marek/Projects/Python/evolutionary-computation-labs/lab-6/main%20copy.ipynb#W5sZmlsZQ%3D%3D?line=5'>6</a>\u001b[0m )\n",
      "File \u001b[0;32m~/Projects/Python/evolutionary-computation-labs/src/tsp_problem.py:135\u001b[0m, in \u001b[0;36mTSPProblem.run\u001b[0;34m(self, instances, methods)\u001b[0m\n\u001b[1;32m    133\u001b[0m     distance_matrix \u001b[39m=\u001b[39m DistanceMatrix(instance)\n\u001b[1;32m    134\u001b[0m     nodes \u001b[39m=\u001b[39m \u001b[39mself\u001b[39m\u001b[39m.\u001b[39m_get_nodes(instance)\n\u001b[0;32m--> 135\u001b[0m     grades \u001b[39m=\u001b[39m \u001b[39mself\u001b[39;49m\u001b[39m.\u001b[39;49m_grade_methods(instance_name, nodes, distance_matrix, methods)\n\u001b[1;32m    136\u001b[0m     instance_grades[instance_name] \u001b[39m=\u001b[39m grades\n\u001b[1;32m    138\u001b[0m \u001b[39mreturn\u001b[39;00m instance_grades\n",
      "File \u001b[0;32m~/Projects/Python/evolutionary-computation-labs/src/tsp_problem.py:214\u001b[0m, in \u001b[0;36mTSPProblem._grade_methods\u001b[0;34m(self, instance_name, nodes, distance_matrix, methods)\u001b[0m\n\u001b[1;32m    212\u001b[0m \u001b[39mprint\u001b[39m(\u001b[39mf\u001b[39m\u001b[39m\"\u001b[39m\u001b[39mRunning \u001b[39m\u001b[39m{\u001b[39;00mmethod_name\u001b[39m.\u001b[39mname\u001b[39m}\u001b[39;00m\u001b[39m method for \u001b[39m\u001b[39m{\u001b[39;00m\u001b[39mself\u001b[39m\u001b[39m.\u001b[39mno_runs\u001b[39m}\u001b[39;00m\u001b[39m runs\u001b[39m\u001b[39m\"\u001b[39m)\n\u001b[1;32m    213\u001b[0m start \u001b[39m=\u001b[39m perf_counter()\n\u001b[0;32m--> 214\u001b[0m grade \u001b[39m=\u001b[39m \u001b[39mself\u001b[39;49m\u001b[39m.\u001b[39;49m_grade_method(instance_name, nodes, method_name, method, distance_matrix)\n\u001b[1;32m    215\u001b[0m \u001b[39mif\u001b[39;00m method_name \u001b[39m==\u001b[39m Method\u001b[39m.\u001b[39mGREEDY_REGRET_WEIGHTED:\n\u001b[1;32m    216\u001b[0m     \u001b[39mself\u001b[39m\u001b[39m.\u001b[39mheuristic_grade[instance_name] \u001b[39m=\u001b[39m grade\n",
      "File \u001b[0;32m~/Projects/Python/evolutionary-computation-labs/src/tsp_problem.py:185\u001b[0m, in \u001b[0;36mTSPProblem._grade_method\u001b[0;34m(self, instance_name, nodes, method_name, method, distance_matrix)\u001b[0m\n\u001b[1;32m    175\u001b[0m     initial_solution \u001b[39m=\u001b[39m \u001b[39mNone\u001b[39;00m\n\u001b[1;32m    177\u001b[0m parameters \u001b[39m=\u001b[39m {\n\u001b[1;32m    178\u001b[0m     \u001b[39m\"\u001b[39m\u001b[39mpivot_node\u001b[39m\u001b[39m\"\u001b[39m: pivot_node,\n\u001b[1;32m    179\u001b[0m     \u001b[39m\"\u001b[39m\u001b[39mnodes\u001b[39m\u001b[39m\"\u001b[39m: nodes_cp,\n\u001b[0;32m   (...)\u001b[0m\n\u001b[1;32m    182\u001b[0m     \u001b[39m\"\u001b[39m\u001b[39minitial_solution\u001b[39m\u001b[39m\"\u001b[39m: initial_solution,\n\u001b[1;32m    183\u001b[0m } \u001b[39m|\u001b[39m params[method_name]\n\u001b[0;32m--> 185\u001b[0m selected_nodes \u001b[39m=\u001b[39m method(\u001b[39m*\u001b[39;49m\u001b[39m*\u001b[39;49mparameters)\n\u001b[1;32m    186\u001b[0m first_node \u001b[39m=\u001b[39m selected_nodes[\u001b[39m0\u001b[39m]\n\u001b[1;32m    188\u001b[0m curr_run \u001b[39m=\u001b[39m Run(first_node\u001b[39m.\u001b[39mid, selected_nodes, distance_matrix)\n",
      "File \u001b[0;32m~/Projects/Python/evolutionary-computation-labs/src/algorithms/local_search_iterative.py:55\u001b[0m, in \u001b[0;36mlocal_search_iterative\u001b[0;34m(nodes, distance_matrix, no_candidates, max_runtime, **kwargs)\u001b[0m\n\u001b[1;32m     52\u001b[0m new_sequence \u001b[39m=\u001b[39m _perturbation(deepcopy(current_sequence), nodes_set)\n\u001b[1;32m     53\u001b[0m \u001b[39mprint\u001b[39m(\u001b[39m\"\u001b[39m\u001b[39mIs perturbation sequence valid?\u001b[39m\u001b[39m\"\u001b[39m, validate_sequence(new_sequence))\n\u001b[0;32m---> 55\u001b[0m new_sequence \u001b[39m=\u001b[39m local_search_candidates(\n\u001b[1;32m     56\u001b[0m     initial_solution\u001b[39m=\u001b[39;49mnew_sequence,\n\u001b[1;32m     57\u001b[0m     nodes\u001b[39m=\u001b[39;49mdeepcopy(nodes),\n\u001b[1;32m     58\u001b[0m     distance_matrix\u001b[39m=\u001b[39;49mdistance_matrix,\n\u001b[1;32m     59\u001b[0m     no_candidates\u001b[39m=\u001b[39;49mno_candidates,\n\u001b[1;32m     60\u001b[0m     \u001b[39m*\u001b[39;49m\u001b[39m*\u001b[39;49mkwargs,\n\u001b[1;32m     61\u001b[0m )\n\u001b[1;32m     62\u001b[0m \u001b[39mprint\u001b[39m(\u001b[39m\"\u001b[39m\u001b[39mIs post-loop local search sequence valid?\u001b[39m\u001b[39m\"\u001b[39m, validate_sequence(new_sequence))\n\u001b[1;32m     64\u001b[0m new_run \u001b[39m=\u001b[39m Run(new_sequence[\u001b[39m0\u001b[39m]\u001b[39m.\u001b[39mid, new_sequence, distance_matrix)\n",
      "File \u001b[0;32m~/Projects/Python/evolutionary-computation-labs/src/algorithms/local_search_candidates.py:25\u001b[0m, in \u001b[0;36mlocal_search_candidates\u001b[0;34m(initial_solution, nodes, distance_matrix, no_candidates, **kwargs)\u001b[0m\n\u001b[1;32m     20\u001b[0m neighbourhood: \u001b[39mlist\u001b[39m[Delta] \u001b[39m=\u001b[39m _get_candidate_neighbourhood(\n\u001b[1;32m     21\u001b[0m     current_run\u001b[39m.\u001b[39mnodes, nodes, no_candidates, distance_matrix\n\u001b[1;32m     22\u001b[0m )\n\u001b[1;32m     24\u001b[0m \u001b[39mif\u001b[39;00m (best_delta \u001b[39m:=\u001b[39m \u001b[39mmin\u001b[39m(neighbourhood)) \u001b[39m<\u001b[39m \u001b[39m0\u001b[39m:\n\u001b[0;32m---> 25\u001b[0m     current_run \u001b[39m=\u001b[39m Run\u001b[39m.\u001b[39;49mfrom_delta(current_run, best_delta)\n\u001b[1;32m     26\u001b[0m \u001b[39melse\u001b[39;00m:\n\u001b[1;32m     27\u001b[0m     \u001b[39mbreak\u001b[39;00m\n",
      "File \u001b[0;32m~/Projects/Python/evolutionary-computation-labs/src/model/run.py:56\u001b[0m, in \u001b[0;36mRun.from_delta\u001b[0;34m(current_run, delta)\u001b[0m\n\u001b[1;32m     54\u001b[0m \u001b[39m@staticmethod\u001b[39m\n\u001b[1;32m     55\u001b[0m \u001b[39mdef\u001b[39;00m \u001b[39mfrom_delta\u001b[39m(current_run: Run, delta: Delta) \u001b[39m-\u001b[39m\u001b[39m>\u001b[39m Run:\n\u001b[0;32m---> 56\u001b[0m     modified_nodes \u001b[39m=\u001b[39m delta\u001b[39m.\u001b[39;49mapply_nodes(current_run\u001b[39m.\u001b[39;49mnodes)\n\u001b[1;32m     58\u001b[0m     node_id \u001b[39m=\u001b[39m current_run\u001b[39m.\u001b[39mnodes[\u001b[39m0\u001b[39m]\u001b[39m.\u001b[39mid\n\u001b[1;32m     59\u001b[0m     mod_cost \u001b[39m=\u001b[39m delta\u001b[39m.\u001b[39mmodified_cost\n",
      "File \u001b[0;32m~/Projects/Python/evolutionary-computation-labs/src/model/delta/delta_inter_nodes.py:20\u001b[0m, in \u001b[0;36mDeltaInterNodes.apply_nodes\u001b[0;34m(self, original_sequence)\u001b[0m\n\u001b[1;32m     16\u001b[0m \u001b[39mself\u001b[39m\u001b[39m.\u001b[39moriginal_sequence \u001b[39m=\u001b[39m original_sequence\n\u001b[1;32m     18\u001b[0m old_node, new_node \u001b[39m=\u001b[39m \u001b[39mself\u001b[39m\u001b[39m.\u001b[39mnodes\n\u001b[0;32m---> 20\u001b[0m \u001b[39mself\u001b[39;49m\u001b[39m.\u001b[39;49m_replace_connections(old_node, new_node)\n\u001b[1;32m     22\u001b[0m old_ind \u001b[39m=\u001b[39m original_sequence\u001b[39m.\u001b[39mindex(old_node)\n\u001b[1;32m     23\u001b[0m original_sequence[old_ind] \u001b[39m=\u001b[39m new_node\n",
      "File \u001b[0;32m~/Projects/Python/evolutionary-computation-labs/src/model/delta/delta_inter_nodes.py:73\u001b[0m, in \u001b[0;36mDeltaInterNodes._replace_connections\u001b[0;34m(self, nodeA, nodeB)\u001b[0m\n\u001b[1;32m     71\u001b[0m     connection\u001b[39m.\u001b[39madd_prev_connection(nodeB)\n\u001b[1;32m     72\u001b[0m \u001b[39melif\u001b[39;00m connection\u001b[39m.\u001b[39mnext_connection \u001b[39mis\u001b[39;00m \u001b[39mNone\u001b[39;00m:\n\u001b[0;32m---> 73\u001b[0m     connection\u001b[39m.\u001b[39;49madd_next_connection(nodeB)\n",
      "File \u001b[0;32m~/Projects/Python/evolutionary-computation-labs/src/model/node.py:22\u001b[0m, in \u001b[0;36mNode.add_next_connection\u001b[0;34m(self, node)\u001b[0m\n\u001b[1;32m     20\u001b[0m \u001b[39mdef\u001b[39;00m \u001b[39madd_next_connection\u001b[39m(\u001b[39mself\u001b[39m, node: Node) \u001b[39m-\u001b[39m\u001b[39m>\u001b[39m \u001b[39mNone\u001b[39;00m:\n\u001b[1;32m     21\u001b[0m     \u001b[39mif\u001b[39;00m \u001b[39mself\u001b[39m\u001b[39m.\u001b[39mnext_connection \u001b[39mis\u001b[39;00m \u001b[39mnot\u001b[39;00m \u001b[39mNone\u001b[39;00m \u001b[39mor\u001b[39;00m node\u001b[39m.\u001b[39mprev_connection \u001b[39mis\u001b[39;00m \u001b[39mnot\u001b[39;00m \u001b[39mNone\u001b[39;00m:\n\u001b[0;32m---> 22\u001b[0m         \u001b[39mraise\u001b[39;00m \u001b[39mValueError\u001b[39;00m(\u001b[39m\"\u001b[39m\u001b[39mNodes already have connections!\u001b[39m\u001b[39m\"\u001b[39m)\n\u001b[1;32m     24\u001b[0m     \u001b[39mself\u001b[39m\u001b[39m.\u001b[39mnext_connection \u001b[39m=\u001b[39m node\n\u001b[1;32m     25\u001b[0m     node\u001b[39m.\u001b[39mprev_connection \u001b[39m=\u001b[39m \u001b[39mself\u001b[39m\n",
      "\u001b[0;31mValueError\u001b[0m: Nodes already have connections!"
     ]
    }
   ],
   "source": [
    "grades = problem.run(\n",
    "    [\"TSPC\", \"TSPD\"],\n",
    "    [\n",
    "        Method.LOCAL_SEARCH_ITERATIVE,\n",
    "    ],\n",
    ")"
   ]
  },
  {
   "cell_type": "code",
   "execution_count": null,
   "metadata": {},
   "outputs": [],
   "source": [
    "for instance_name, instance_grades in grades.items():\n",
    "    print(f\"\\n{instance_name}:\")\n",
    "    print(\"----\")\n",
    "    for method_name, grade in instance_grades.items():\n",
    "        meth_name = method_name.value.replace(\"_\", \" \").title()\n",
    "        print(f\"{meth_name}: {grade}\")"
   ]
  }
 ],
 "metadata": {
  "kernelspec": {
   "display_name": "ec",
   "language": "python",
   "name": "python3"
  },
  "language_info": {
   "codemirror_mode": {
    "name": "ipython",
    "version": 3
   },
   "file_extension": ".py",
   "mimetype": "text/x-python",
   "name": "python",
   "nbconvert_exporter": "python",
   "pygments_lexer": "ipython3",
   "version": "3.10.6"
  },
  "orig_nbformat": 4,
  "vscode": {
   "interpreter": {
    "hash": "1e30a881f08a0c4073d89b6283bcc77c203b3a40b1ec249f3d329929b6c90ee9"
   }
  }
 },
 "nbformat": 4,
 "nbformat_minor": 2
}
