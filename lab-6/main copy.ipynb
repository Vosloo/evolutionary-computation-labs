{
 "cells": [
  {
   "cell_type": "markdown",
   "metadata": {},
   "source": [
    "### Authors:\n",
    "\n",
    "Marek Szydłowski 136633<br>\n",
    "Wojciech Tomczak 145467\n",
    "\n",
    "Link to the source code: https://github.com/Vosloo/evolutionary-computation-labs"
   ]
  },
  {
   "cell_type": "code",
   "execution_count": 1,
   "metadata": {},
   "outputs": [],
   "source": [
    "import sys\n",
    "from pathlib import Path\n",
    "import numpy as np\n",
    "import pandas as pd\n",
    "\n",
    "from multiprocessing import Pool\n",
    "import pickle\n",
    "\n",
    "from IPython.display import display, Markdown"
   ]
  },
  {
   "cell_type": "code",
   "execution_count": 2,
   "metadata": {},
   "outputs": [],
   "source": [
    "module_path = Path.cwd().parent\n",
    "if module_path not in sys.path:\n",
    "    sys.path.append(str(module_path))"
   ]
  },
  {
   "cell_type": "code",
   "execution_count": 3,
   "metadata": {},
   "outputs": [],
   "source": [
    "from src.tsp_problem import TSPProblem\n",
    "from src.algorithms.methods import Method\n",
    "from src.visualization import Visualizer"
   ]
  },
  {
   "cell_type": "code",
   "execution_count": 4,
   "metadata": {},
   "outputs": [
    {
     "name": "stdout",
     "output_type": "stream",
     "text": [
      "Loaded 4 instances: TSPA, TSPB, TSPC, TSPD\n",
      "Available methods: ['RANDOM_SEQUENCE', 'NEAREST', 'GREEDY_CYCLE', 'GREEDY_REGRET', 'GREEDY_REGRET_WEIGHTED', 'LOCAL_SEARCH_STEEPEST_NODES_RANDOM', 'LOCAL_SEARCH_STEEPEST_NODES_HEURISTIC', 'LOCAL_SEARCH_STEEPEST_EDGES_RANDOM', 'LOCAL_SEARCH_STEEPEST_EDGES_HEURISTIC', 'LOCAL_SEARCH_GREEDY_NODES_RANDOM', 'LOCAL_SEARCH_GREEDY_NODES_HEURISTIC', 'LOCAL_SEARCH_GREEDY_EDGES_RANDOM', 'LOCAL_SEARCH_GREEDY_EDGES_HEURISTIC', 'LOCAL_SEARCH_CANDIDATES_RANDOM', 'LOCAL_SEARCH_CANDIDATES_HEURISTIC', 'LOCAL_SEARCH_MOVES_RANDOM', 'LOCAL_SEARCH_MSLS', 'LOCAL_SEARCH_ITERATIVE']\n"
     ]
    }
   ],
   "source": [
    "problem = TSPProblem(no_runs=20)"
   ]
  },
  {
   "cell_type": "code",
   "execution_count": 5,
   "metadata": {},
   "outputs": [
    {
     "name": "stdout",
     "output_type": "stream",
     "text": [
      "\n",
      "Running TSPC instance\n",
      "Running LOCAL_SEARCH_ITERATIVE method for 20 runs\n",
      "  1 /  20Nothing phases me, pain: 959\n",
      "  2 /  20Nothing phases me, pain: 955\n",
      "  3 /  20"
     ]
    },
    {
     "ename": "KeyboardInterrupt",
     "evalue": "",
     "output_type": "error",
     "traceback": [
      "\u001b[0;31m---------------------------------------------------------------------------\u001b[0m",
      "\u001b[0;31mKeyboardInterrupt\u001b[0m                         Traceback (most recent call last)",
      "\u001b[1;32m/home/marek/Projects/Python/evolutionary-computation-labs/lab-6/main copy.ipynb Cell 6\u001b[0m in \u001b[0;36m<cell line: 1>\u001b[0;34m()\u001b[0m\n\u001b[0;32m----> <a href='vscode-notebook-cell:/home/marek/Projects/Python/evolutionary-computation-labs/lab-6/main%20copy.ipynb#W5sZmlsZQ%3D%3D?line=0'>1</a>\u001b[0m grades \u001b[39m=\u001b[39m problem\u001b[39m.\u001b[39;49mrun(\n\u001b[1;32m      <a href='vscode-notebook-cell:/home/marek/Projects/Python/evolutionary-computation-labs/lab-6/main%20copy.ipynb#W5sZmlsZQ%3D%3D?line=1'>2</a>\u001b[0m     [\u001b[39m\"\u001b[39;49m\u001b[39mTSPC\u001b[39;49m\u001b[39m\"\u001b[39;49m, \u001b[39m\"\u001b[39;49m\u001b[39mTSPD\u001b[39;49m\u001b[39m\"\u001b[39;49m],\n\u001b[1;32m      <a href='vscode-notebook-cell:/home/marek/Projects/Python/evolutionary-computation-labs/lab-6/main%20copy.ipynb#W5sZmlsZQ%3D%3D?line=2'>3</a>\u001b[0m     [\n\u001b[1;32m      <a href='vscode-notebook-cell:/home/marek/Projects/Python/evolutionary-computation-labs/lab-6/main%20copy.ipynb#W5sZmlsZQ%3D%3D?line=3'>4</a>\u001b[0m         Method\u001b[39m.\u001b[39;49mLOCAL_SEARCH_ITERATIVE,\n\u001b[1;32m      <a href='vscode-notebook-cell:/home/marek/Projects/Python/evolutionary-computation-labs/lab-6/main%20copy.ipynb#W5sZmlsZQ%3D%3D?line=4'>5</a>\u001b[0m     ],\n\u001b[1;32m      <a href='vscode-notebook-cell:/home/marek/Projects/Python/evolutionary-computation-labs/lab-6/main%20copy.ipynb#W5sZmlsZQ%3D%3D?line=5'>6</a>\u001b[0m )\n",
      "File \u001b[0;32m~/Projects/Python/evolutionary-computation-labs/src/tsp_problem.py:134\u001b[0m, in \u001b[0;36mTSPProblem.run\u001b[0;34m(self, instances, methods)\u001b[0m\n\u001b[1;32m    132\u001b[0m     distance_matrix \u001b[39m=\u001b[39m DistanceMatrix(instance)\n\u001b[1;32m    133\u001b[0m     nodes \u001b[39m=\u001b[39m \u001b[39mself\u001b[39m\u001b[39m.\u001b[39m_get_nodes(instance)\n\u001b[0;32m--> 134\u001b[0m     grades \u001b[39m=\u001b[39m \u001b[39mself\u001b[39;49m\u001b[39m.\u001b[39;49m_grade_methods(instance_name, nodes, distance_matrix, methods)\n\u001b[1;32m    135\u001b[0m     instance_grades[instance_name] \u001b[39m=\u001b[39m grades\n\u001b[1;32m    137\u001b[0m \u001b[39mreturn\u001b[39;00m instance_grades\n",
      "File \u001b[0;32m~/Projects/Python/evolutionary-computation-labs/src/tsp_problem.py:213\u001b[0m, in \u001b[0;36mTSPProblem._grade_methods\u001b[0;34m(self, instance_name, nodes, distance_matrix, methods)\u001b[0m\n\u001b[1;32m    211\u001b[0m \u001b[39mprint\u001b[39m(\u001b[39mf\u001b[39m\u001b[39m\"\u001b[39m\u001b[39mRunning \u001b[39m\u001b[39m{\u001b[39;00mmethod_name\u001b[39m.\u001b[39mname\u001b[39m}\u001b[39;00m\u001b[39m method for \u001b[39m\u001b[39m{\u001b[39;00m\u001b[39mself\u001b[39m\u001b[39m.\u001b[39mno_runs\u001b[39m}\u001b[39;00m\u001b[39m runs\u001b[39m\u001b[39m\"\u001b[39m)\n\u001b[1;32m    212\u001b[0m start \u001b[39m=\u001b[39m perf_counter()\n\u001b[0;32m--> 213\u001b[0m grade \u001b[39m=\u001b[39m \u001b[39mself\u001b[39;49m\u001b[39m.\u001b[39;49m_grade_method(instance_name, nodes, method_name, method, distance_matrix)\n\u001b[1;32m    214\u001b[0m \u001b[39mif\u001b[39;00m method_name \u001b[39m==\u001b[39m Method\u001b[39m.\u001b[39mGREEDY_REGRET_WEIGHTED:\n\u001b[1;32m    215\u001b[0m     \u001b[39mself\u001b[39m\u001b[39m.\u001b[39mheuristic_grade[instance_name] \u001b[39m=\u001b[39m grade\n",
      "File \u001b[0;32m~/Projects/Python/evolutionary-computation-labs/src/tsp_problem.py:184\u001b[0m, in \u001b[0;36mTSPProblem._grade_method\u001b[0;34m(self, instance_name, nodes, method_name, method, distance_matrix)\u001b[0m\n\u001b[1;32m    174\u001b[0m     initial_solution \u001b[39m=\u001b[39m \u001b[39mNone\u001b[39;00m\n\u001b[1;32m    176\u001b[0m parameters \u001b[39m=\u001b[39m {\n\u001b[1;32m    177\u001b[0m     \u001b[39m\"\u001b[39m\u001b[39mpivot_node\u001b[39m\u001b[39m\"\u001b[39m: pivot_node,\n\u001b[1;32m    178\u001b[0m     \u001b[39m\"\u001b[39m\u001b[39mnodes\u001b[39m\u001b[39m\"\u001b[39m: nodes_cp,\n\u001b[0;32m   (...)\u001b[0m\n\u001b[1;32m    181\u001b[0m     \u001b[39m\"\u001b[39m\u001b[39minitial_solution\u001b[39m\u001b[39m\"\u001b[39m: initial_solution,\n\u001b[1;32m    182\u001b[0m } \u001b[39m|\u001b[39m params[method_name]\n\u001b[0;32m--> 184\u001b[0m selected_nodes \u001b[39m=\u001b[39m method(\u001b[39m*\u001b[39;49m\u001b[39m*\u001b[39;49mparameters)\n\u001b[1;32m    185\u001b[0m first_node \u001b[39m=\u001b[39m selected_nodes[\u001b[39m0\u001b[39m]\n\u001b[1;32m    187\u001b[0m curr_run \u001b[39m=\u001b[39m Run(first_node\u001b[39m.\u001b[39mid, selected_nodes, distance_matrix)\n",
      "File \u001b[0;32m~/Projects/Python/evolutionary-computation-labs/src/algorithms/local_search_iterative.py:51\u001b[0m, in \u001b[0;36mlocal_search_iterative\u001b[0;34m(nodes, distance_matrix, max_runtime, **kwargs)\u001b[0m\n\u001b[1;32m     46\u001b[0m     \u001b[39mbreak\u001b[39;00m\n\u001b[1;32m     48\u001b[0m new_sequence \u001b[39m=\u001b[39m _perturbation(deepcopy(current_sequence), deepcopy(nodes_set))\n\u001b[1;32m     49\u001b[0m new_sequence \u001b[39m=\u001b[39m local_search_moves(\n\u001b[1;32m     50\u001b[0m     initial_solution\u001b[39m=\u001b[39mnew_sequence,\n\u001b[0;32m---> 51\u001b[0m     nodes\u001b[39m=\u001b[39mdeepcopy(nodes),\n\u001b[1;32m     52\u001b[0m     distance_matrix\u001b[39m=\u001b[39mdistance_matrix,\n\u001b[1;32m     53\u001b[0m     \u001b[39m*\u001b[39m\u001b[39m*\u001b[39mkwargs,\n\u001b[1;32m     54\u001b[0m )\n\u001b[1;32m     56\u001b[0m new_run \u001b[39m=\u001b[39m Run(new_sequence[\u001b[39m0\u001b[39m]\u001b[39m.\u001b[39mid, new_sequence, distance_matrix)\n\u001b[1;32m     58\u001b[0m \u001b[39mif\u001b[39;00m new_run \u001b[39m<\u001b[39m current_run:\n",
      "File \u001b[0;32m~/anaconda3/envs/ec/lib/python3.10/copy.py:146\u001b[0m, in \u001b[0;36mdeepcopy\u001b[0;34m(x, memo, _nil)\u001b[0m\n\u001b[1;32m    144\u001b[0m copier \u001b[39m=\u001b[39m _deepcopy_dispatch\u001b[39m.\u001b[39mget(\u001b[39mcls\u001b[39m)\n\u001b[1;32m    145\u001b[0m \u001b[39mif\u001b[39;00m copier \u001b[39mis\u001b[39;00m \u001b[39mnot\u001b[39;00m \u001b[39mNone\u001b[39;00m:\n\u001b[0;32m--> 146\u001b[0m     y \u001b[39m=\u001b[39m copier(x, memo)\n\u001b[1;32m    147\u001b[0m \u001b[39melse\u001b[39;00m:\n\u001b[1;32m    148\u001b[0m     \u001b[39mif\u001b[39;00m \u001b[39missubclass\u001b[39m(\u001b[39mcls\u001b[39m, \u001b[39mtype\u001b[39m):\n",
      "File \u001b[0;32m~/anaconda3/envs/ec/lib/python3.10/copy.py:206\u001b[0m, in \u001b[0;36m_deepcopy_list\u001b[0;34m(x, memo, deepcopy)\u001b[0m\n\u001b[1;32m    204\u001b[0m append \u001b[39m=\u001b[39m y\u001b[39m.\u001b[39mappend\n\u001b[1;32m    205\u001b[0m \u001b[39mfor\u001b[39;00m a \u001b[39min\u001b[39;00m x:\n\u001b[0;32m--> 206\u001b[0m     append(deepcopy(a, memo))\n\u001b[1;32m    207\u001b[0m \u001b[39mreturn\u001b[39;00m y\n",
      "File \u001b[0;32m~/anaconda3/envs/ec/lib/python3.10/copy.py:177\u001b[0m, in \u001b[0;36mdeepcopy\u001b[0;34m(x, memo, _nil)\u001b[0m\n\u001b[1;32m    175\u001b[0m \u001b[39mif\u001b[39;00m y \u001b[39mis\u001b[39;00m \u001b[39mnot\u001b[39;00m x:\n\u001b[1;32m    176\u001b[0m     memo[d] \u001b[39m=\u001b[39m y\n\u001b[0;32m--> 177\u001b[0m     _keep_alive(x, memo) \u001b[39m# Make sure x lives at least as long as d\u001b[39;00m\n\u001b[1;32m    178\u001b[0m \u001b[39mreturn\u001b[39;00m y\n",
      "\u001b[0;31mKeyboardInterrupt\u001b[0m: "
     ]
    }
   ],
   "source": [
    "grades = problem.run(\n",
    "    [\"TSPC\", \"TSPD\"],\n",
    "    [\n",
    "        Method.LOCAL_SEARCH_ITERATIVE,\n",
    "    ],\n",
    ")"
   ]
  },
  {
   "cell_type": "code",
   "execution_count": null,
   "metadata": {},
   "outputs": [],
   "source": [
    "for instance_name, instance_grades in grades.items():\n",
    "    print(f\"\\n{instance_name}:\")\n",
    "    print(\"----\")\n",
    "    for method_name, grade in instance_grades.items():\n",
    "        meth_name = method_name.value.replace(\"_\", \" \").title()\n",
    "        print(f\"{meth_name}: {grade}\")"
   ]
  }
 ],
 "metadata": {
  "kernelspec": {
   "display_name": "ec",
   "language": "python",
   "name": "python3"
  },
  "language_info": {
   "codemirror_mode": {
    "name": "ipython",
    "version": 3
   },
   "file_extension": ".py",
   "mimetype": "text/x-python",
   "name": "python",
   "nbconvert_exporter": "python",
   "pygments_lexer": "ipython3",
   "version": "3.10.6"
  },
  "orig_nbformat": 4,
  "vscode": {
   "interpreter": {
    "hash": "1e30a881f08a0c4073d89b6283bcc77c203b3a40b1ec249f3d329929b6c90ee9"
   }
  }
 },
 "nbformat": 4,
 "nbformat_minor": 2
}
