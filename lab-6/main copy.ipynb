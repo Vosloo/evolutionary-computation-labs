{
 "cells": [
  {
   "cell_type": "markdown",
   "metadata": {},
   "source": [
    "### Authors:\n",
    "\n",
    "Marek Szydłowski 136633<br>\n",
    "Wojciech Tomczak 145467\n",
    "\n",
    "Link to the source code: https://github.com/Vosloo/evolutionary-computation-labs"
   ]
  },
  {
   "cell_type": "code",
   "execution_count": 1,
   "metadata": {},
   "outputs": [],
   "source": [
    "import sys\n",
    "from pathlib import Path\n",
    "import numpy as np\n",
    "import pandas as pd\n",
    "\n",
    "from multiprocessing import Pool\n",
    "import pickle\n",
    "\n",
    "from IPython.display import display, Markdown"
   ]
  },
  {
   "cell_type": "code",
   "execution_count": 2,
   "metadata": {},
   "outputs": [],
   "source": [
    "module_path = Path.cwd().parent\n",
    "if module_path not in sys.path:\n",
    "    sys.path.append(str(module_path))"
   ]
  },
  {
   "cell_type": "code",
   "execution_count": 3,
   "metadata": {},
   "outputs": [],
   "source": [
    "from src.tsp_problem import TSPProblem\n",
    "from src.algorithms.methods import Method\n",
    "from src.visualization import Visualizer"
   ]
  },
  {
   "cell_type": "code",
   "execution_count": 4,
   "metadata": {},
   "outputs": [
    {
     "name": "stdout",
     "output_type": "stream",
     "text": [
      "Loaded 4 instances: TSPA, TSPB, TSPC, TSPD\n",
      "Available methods: ['RANDOM_SEQUENCE', 'NEAREST', 'GREEDY_CYCLE', 'GREEDY_REGRET', 'GREEDY_REGRET_WEIGHTED', 'LOCAL_SEARCH_STEEPEST_NODES_RANDOM', 'LOCAL_SEARCH_STEEPEST_NODES_HEURISTIC', 'LOCAL_SEARCH_STEEPEST_EDGES_RANDOM', 'LOCAL_SEARCH_STEEPEST_EDGES_HEURISTIC', 'LOCAL_SEARCH_GREEDY_NODES_RANDOM', 'LOCAL_SEARCH_GREEDY_NODES_HEURISTIC', 'LOCAL_SEARCH_GREEDY_EDGES_RANDOM', 'LOCAL_SEARCH_GREEDY_EDGES_HEURISTIC', 'LOCAL_SEARCH_CANDIDATES_RANDOM', 'LOCAL_SEARCH_CANDIDATES_HEURISTIC', 'LOCAL_SEARCH_MOVES_RANDOM', 'LOCAL_SEARCH_MSLS', 'LOCAL_SEARCH_ITERATIVE']\n"
     ]
    }
   ],
   "source": [
    "problem = TSPProblem(no_runs=20)"
   ]
  },
  {
   "cell_type": "code",
   "execution_count": 5,
   "metadata": {},
   "outputs": [
    {
     "name": "stdout",
     "output_type": "stream",
     "text": [
      "\n",
      "Running TSPC instance\n",
      "Running LOCAL_SEARCH_ITERATIVE method for 20 runs\n",
      "  1 /  20Nothing phases me, pain: 958\n",
      "  2 /  20Nothing phases me, pain: 1005\n",
      "  3 /  20Nothing phases me, pain: 1003\n",
      "  4 /  20Nothing phases me, pain: 1089\n",
      "  5 /  20Nothing phases me, pain: 1224\n",
      "  6 /  20Nothing phases me, pain: 1223\n",
      "  7 /  20Nothing phases me, pain: 1231\n",
      "  8 /  20Nothing phases me, pain: 1224\n",
      "  9 /  20Nothing phases me, pain: 1220\n",
      " 10 /  20Nothing phases me, pain: 1213\n",
      " 11 /  20Nothing phases me, pain: 1213\n",
      " 12 /  20Nothing phases me, pain: 1214\n",
      " 13 /  20Nothing phases me, pain: 1210\n",
      " 14 /  20Nothing phases me, pain: 1214\n",
      " 15 /  20Nothing phases me, pain: 1212\n",
      " 16 /  20Nothing phases me, pain: 1206\n",
      " 17 /  20Nothing phases me, pain: 1207\n",
      " 18 /  20Nothing phases me, pain: 1205\n",
      " 19 /  20Nothing phases me, pain: 1203\n",
      " 20 /  20Nothing phases me, pain: 1202\n",
      "Finished LOCAL_SEARCH_ITERATIVE method in 2100.97s\n",
      "\n",
      "Running TSPD instance\n",
      "Running LOCAL_SEARCH_ITERATIVE method for 20 runs\n",
      "  1 /  20Nothing phases me, pain: 1201\n",
      "  2 /  20Nothing phases me, pain: 1196\n",
      "  3 /  20Nothing phases me, pain: 1196\n",
      "  4 /  20Nothing phases me, pain: 1198\n",
      "  5 /  20Nothing phases me, pain: 1198\n",
      "  6 /  20Nothing phases me, pain: 1190\n",
      "  7 /  20Nothing phases me, pain: 1193\n",
      "  8 /  20Nothing phases me, pain: 1192\n",
      "  9 /  20Nothing phases me, pain: 1193\n",
      " 10 /  20Nothing phases me, pain: 1194\n",
      " 11 /  20Nothing phases me, pain: 1190\n",
      " 12 /  20Nothing phases me, pain: 1188\n",
      " 13 /  20Nothing phases me, pain: 1185\n",
      " 14 /  20Nothing phases me, pain: 1186\n",
      " 15 /  20Nothing phases me, pain: 1183\n",
      " 16 /  20Nothing phases me, pain: 1188\n",
      " 17 /  20Nothing phases me, pain: 1191\n",
      " 18 /  20Nothing phases me, pain: 1189\n",
      " 19 /  20Nothing phases me, pain: 1189\n",
      " 20 /  20Nothing phases me, pain: 1189\n",
      "Finished LOCAL_SEARCH_ITERATIVE method in 2101.02s\n"
     ]
    }
   ],
   "source": [
    "grades = problem.run(\n",
    "    [\"TSPC\", \"TSPD\"],\n",
    "    [\n",
    "        Method.LOCAL_SEARCH_ITERATIVE,\n",
    "    ],\n",
    ")"
   ]
  },
  {
   "cell_type": "code",
   "execution_count": 6,
   "metadata": {},
   "outputs": [],
   "source": [
    "pickle.dump(grades, open(\"grades_iter.pkl\", \"wb\"))"
   ]
  },
  {
   "cell_type": "code",
   "execution_count": 7,
   "metadata": {},
   "outputs": [
    {
     "name": "stdout",
     "output_type": "stream",
     "text": [
      "\n",
      "TSPC:\n",
      "----\n",
      "Local Search Iterative: \n",
      "==================================== Grade =====================================\n",
      "Method:                                 Local Search Iterative\n",
      "Best run id:                            113\n",
      "Best run cost:                          26405\n",
      "Best run distance:                      21492\n",
      "Best run score:                         47897\n",
      "Min score:                              47897\n",
      "Avg score:                              48910\n",
      "Max score:                              50372\n",
      "================================================================================\n",
      "\n",
      "\n",
      "TSPD:\n",
      "----\n",
      "Local Search Iterative: \n",
      "==================================== Grade =====================================\n",
      "Method:                                 Local Search Iterative\n",
      "Best run id:                            121\n",
      "Best run cost:                          24184\n",
      "Best run distance:                      19696\n",
      "Best run score:                         43880\n",
      "Min score:                              43880\n",
      "Avg score:                              45282\n",
      "Max score:                              46315\n",
      "================================================================================\n",
      "\n"
     ]
    }
   ],
   "source": [
    "for instance_name, instance_grades in grades.items():\n",
    "    print(f\"\\n{instance_name}:\")\n",
    "    print(\"----\")\n",
    "    for method_name, grade in instance_grades.items():\n",
    "        meth_name = method_name.value.replace(\"_\", \" \").title()\n",
    "        print(f\"{meth_name}: {grade}\")"
   ]
  }
 ],
 "metadata": {
  "kernelspec": {
   "display_name": "ec",
   "language": "python",
   "name": "python3"
  },
  "language_info": {
   "codemirror_mode": {
    "name": "ipython",
    "version": 3
   },
   "file_extension": ".py",
   "mimetype": "text/x-python",
   "name": "python",
   "nbconvert_exporter": "python",
   "pygments_lexer": "ipython3",
   "version": "3.11.0"
  },
  "orig_nbformat": 4,
  "vscode": {
   "interpreter": {
    "hash": "1e30a881f08a0c4073d89b6283bcc77c203b3a40b1ec249f3d329929b6c90ee9"
   }
  }
 },
 "nbformat": 4,
 "nbformat_minor": 2
}
