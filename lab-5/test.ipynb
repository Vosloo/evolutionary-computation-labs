{
 "cells": [
  {
   "cell_type": "code",
   "execution_count": null,
   "metadata": {},
   "outputs": [],
   "source": [
    "import sys\n",
    "from pathlib import Path\n",
    "import numpy as np\n",
    "import pandas as pd\n",
    "\n",
    "from multiprocessing import Pool\n",
    "import pickle\n",
    "\n",
    "from IPython.display import display, Markdown"
   ]
  },
  {
   "cell_type": "code",
   "execution_count": null,
   "metadata": {},
   "outputs": [],
   "source": [
    "module_path = Path.cwd().parent\n",
    "if module_path not in sys.path:\n",
    "    sys.path.append(str(module_path))"
   ]
  },
  {
   "cell_type": "code",
   "execution_count": null,
   "metadata": {},
   "outputs": [],
   "source": [
    "from src.tsp_problem import TSPProblem\n",
    "from src.algorithms.methods import Method\n",
    "from src.visualization import Visualizer"
   ]
  },
  {
   "cell_type": "code",
   "execution_count": null,
   "metadata": {},
   "outputs": [],
   "source": [
    "problem = TSPProblem(no_runs=200)\n"
   ]
  },
  {
   "cell_type": "code",
   "execution_count": null,
   "metadata": {},
   "outputs": [],
   "source": [
    "grades_pre = problem.run([\"TSPC\", \"TSPD\"], [Method.RANDOM, Method.GREEDY_REGRET_WEIGHTED])\n",
    "\n",
    "items = [\n",
    "    # ((\"TSPC\", \"TSPD\"), [Method.NEAREST, Method.GREEDY_CYCLE, Method.GREEDY_REGRET]),\n",
    "    # ((\"TSPC\",), [Method.LOCAL_SEARCH_STEEPEST_NODES_RANDOM, Method.LOCAL_SEARCH_STEEPEST_NODES_HEURISTIC]),\n",
    "    # ((\"TSPD\",), [Method.LOCAL_SEARCH_STEEPEST_NODES_RANDOM, Method.LOCAL_SEARCH_STEEPEST_NODES_HEURISTIC]),\n",
    "    # ((\"TSPC\",), [Method.LOCAL_SEARCH_STEEPEST_EDGES_RANDOM, Method.LOCAL_SEARCH_STEEPEST_EDGES_HEURISTIC]),\n",
    "    # ((\"TSPD\",), [Method.LOCAL_SEARCH_STEEPEST_EDGES_RANDOM, Method.LOCAL_SEARCH_STEEPEST_EDGES_HEURISTIC]),\n",
    "    # ((\"TSPC\",), [Method.LOCAL_SEARCH_GREEDY_NODES_RANDOM, Method.LOCAL_SEARCH_GREEDY_NODES_HEURISTIC]),\n",
    "    # ((\"TSPD\",), [Method.LOCAL_SEARCH_GREEDY_NODES_RANDOM, Method.LOCAL_SEARCH_GREEDY_NODES_HEURISTIC]),\n",
    "    # ((\"TSPC\",), [Method.LOCAL_SEARCH_GREEDY_EDGES_RANDOM, Method.LOCAL_SEARCH_GREEDY_EDGES_HEURISTIC]),\n",
    "    # ((\"TSPD\",), [Method.LOCAL_SEARCH_GREEDY_EDGES_RANDOM, Method.LOCAL_SEARCH_GREEDY_EDGES_HEURISTIC]),\n",
    "    ((\"TSPC\",), [Method.LOCAL_SEARCH_CANDIDATE_RANDOM, Method.LOCAL_SEARCH_CANDIDATE_HEURISTIC]),\n",
    "]\n",
    "\n",
    "with Pool() as pool:\n",
    "    grades_tmp = pool.starmap(problem.run, items)\n"
   ]
  },
  {
   "cell_type": "code",
   "execution_count": null,
   "metadata": {},
   "outputs": [],
   "source": [
    "grades = {\"TSPC\": {}, \"TSPD\": {}}\n",
    "\n",
    "for instance_name, instance_grade in grades_pre.items():\n",
    "    grades[instance_name] = instance_grade\n",
    "\n",
    "for process_grade in grades_tmp:\n",
    "    for instance_name, instance_grade in process_grade.items():\n",
    "        grades[instance_name].update(instance_grade)"
   ]
  }
 ],
 "metadata": {
  "language_info": {
   "name": "python"
  },
  "orig_nbformat": 4
 },
 "nbformat": 4,
 "nbformat_minor": 2
}
