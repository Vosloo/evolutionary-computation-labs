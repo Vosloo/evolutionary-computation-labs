{
 "cells": [
  {
   "cell_type": "code",
   "execution_count": 1,
   "metadata": {},
   "outputs": [],
   "source": [
    "import sys\n",
    "from pathlib import Path\n",
    "import numpy as np\n",
    "import pandas as pd\n",
    "\n",
    "from multiprocessing import Pool\n",
    "import pickle\n",
    "\n",
    "from IPython.display import display, Markdown"
   ]
  },
  {
   "cell_type": "code",
   "execution_count": 2,
   "metadata": {},
   "outputs": [],
   "source": [
    "module_path = Path.cwd().parent\n",
    "if module_path not in sys.path:\n",
    "    sys.path.append(str(module_path))"
   ]
  },
  {
   "cell_type": "code",
   "execution_count": 3,
   "metadata": {},
   "outputs": [],
   "source": [
    "from src.tsp_problem import TSPProblem\n",
    "from src.algorithms.methods import Method\n",
    "from src.visualization import Visualizer"
   ]
  },
  {
   "cell_type": "code",
   "execution_count": 4,
   "metadata": {},
   "outputs": [
    {
     "name": "stdout",
     "output_type": "stream",
     "text": [
      "Loaded 4 instances: TSPA, TSPB, TSPC, TSPD\n",
      "Available methods: ['RANDOM', 'NEAREST', 'GREEDY_CYCLE', 'GREEDY_REGRET', 'GREEDY_REGRET_WEIGHTED', 'LOCAL_SEARCH_STEEPEST_NODES_RANDOM', 'LOCAL_SEARCH_STEEPEST_NODES_HEURISTIC', 'LOCAL_SEARCH_STEEPEST_EDGES_RANDOM', 'LOCAL_SEARCH_STEEPEST_EDGES_HEURISTIC', 'LOCAL_SEARCH_GREEDY_NODES_RANDOM', 'LOCAL_SEARCH_GREEDY_NODES_HEURISTIC', 'LOCAL_SEARCH_GREEDY_EDGES_RANDOM', 'LOCAL_SEARCH_GREEDY_EDGES_HEURISTIC', 'LOCAL_SEARCH_CANDIDATES_RANDOM', 'LOCAL_SEARCH_CANDIDATES_HEURISTIC', 'LOCAL_SEARCH_MOVES_RANDOM']\n"
     ]
    }
   ],
   "source": [
    "problem = TSPProblem(no_runs=1)\n"
   ]
  },
  {
   "cell_type": "code",
   "execution_count": 5,
   "metadata": {},
   "outputs": [
    {
     "name": "stdout",
     "output_type": "stream",
     "text": [
      "\n",
      "Running TSPC instance\n",
      "Running RANDOM method for 1 runs\n",
      "Finished RANDOM method in 0.00s\n",
      "Running LOCAL_SEARCH_MOVES_RANDOM method for 1 runs\n",
      "  1 /   1"
     ]
    },
    {
     "ename": "ValueError",
     "evalue": "Nodes already have connections!",
     "output_type": "error",
     "traceback": [
      "\u001b[0;31m---------------------------------------------------------------------------\u001b[0m",
      "\u001b[0;31mValueError\u001b[0m                                Traceback (most recent call last)",
      "Cell \u001b[0;32mIn [5], line 1\u001b[0m\n\u001b[0;32m----> 1\u001b[0m grades \u001b[39m=\u001b[39m problem\u001b[39m.\u001b[39;49mrun(\n\u001b[1;32m      2\u001b[0m     [\u001b[39m\"\u001b[39;49m\u001b[39mTSPC\u001b[39;49m\u001b[39m\"\u001b[39;49m],\n\u001b[1;32m      3\u001b[0m     [\n\u001b[1;32m      4\u001b[0m         Method\u001b[39m.\u001b[39;49mRANDOM,\n\u001b[1;32m      5\u001b[0m         Method\u001b[39m.\u001b[39;49mLOCAL_SEARCH_MOVES_RANDOM,\n\u001b[1;32m      6\u001b[0m     ],\n\u001b[1;32m      7\u001b[0m )\n",
      "File \u001b[0;32m~/Projects/Python/evolutionary-computation-labs/src/tsp_problem.py:124\u001b[0m, in \u001b[0;36mTSPProblem.run\u001b[0;34m(self, instances, methods)\u001b[0m\n\u001b[1;32m    122\u001b[0m     distance_matrix \u001b[39m=\u001b[39m DistanceMatrix(instance)\n\u001b[1;32m    123\u001b[0m     nodes \u001b[39m=\u001b[39m \u001b[39mself\u001b[39m\u001b[39m.\u001b[39m_get_nodes(instance)\n\u001b[0;32m--> 124\u001b[0m     grades \u001b[39m=\u001b[39m \u001b[39mself\u001b[39;49m\u001b[39m.\u001b[39;49m_grade_methods(instance_name, nodes, distance_matrix, methods)\n\u001b[1;32m    125\u001b[0m     instance_grades[instance_name] \u001b[39m=\u001b[39m grades\n\u001b[1;32m    127\u001b[0m \u001b[39mreturn\u001b[39;00m instance_grades\n",
      "File \u001b[0;32m~/Projects/Python/evolutionary-computation-labs/src/tsp_problem.py:203\u001b[0m, in \u001b[0;36mTSPProblem._grade_methods\u001b[0;34m(self, instance_name, nodes, distance_matrix, methods)\u001b[0m\n\u001b[1;32m    201\u001b[0m \u001b[39mprint\u001b[39m(\u001b[39mf\u001b[39m\u001b[39m\"\u001b[39m\u001b[39mRunning \u001b[39m\u001b[39m{\u001b[39;00mmethod_name\u001b[39m.\u001b[39mname\u001b[39m}\u001b[39;00m\u001b[39m method for \u001b[39m\u001b[39m{\u001b[39;00m\u001b[39mself\u001b[39m\u001b[39m.\u001b[39mno_runs\u001b[39m}\u001b[39;00m\u001b[39m runs\u001b[39m\u001b[39m\"\u001b[39m)\n\u001b[1;32m    202\u001b[0m start \u001b[39m=\u001b[39m perf_counter()\n\u001b[0;32m--> 203\u001b[0m grade \u001b[39m=\u001b[39m \u001b[39mself\u001b[39;49m\u001b[39m.\u001b[39;49m_grade_method(instance_name, nodes, method_name, method, distance_matrix)\n\u001b[1;32m    204\u001b[0m \u001b[39mif\u001b[39;00m method_name \u001b[39m==\u001b[39m Method\u001b[39m.\u001b[39mGREEDY_REGRET_WEIGHTED:\n\u001b[1;32m    205\u001b[0m     \u001b[39mself\u001b[39m\u001b[39m.\u001b[39mheuristic_grade[instance_name] \u001b[39m=\u001b[39m grade\n",
      "File \u001b[0;32m~/Projects/Python/evolutionary-computation-labs/src/tsp_problem.py:174\u001b[0m, in \u001b[0;36mTSPProblem._grade_method\u001b[0;34m(self, instance_name, nodes, method_name, method, distance_matrix)\u001b[0m\n\u001b[1;32m    164\u001b[0m     initial_solution \u001b[39m=\u001b[39m \u001b[39mNone\u001b[39;00m\n\u001b[1;32m    166\u001b[0m parameters \u001b[39m=\u001b[39m {\n\u001b[1;32m    167\u001b[0m     \u001b[39m\"\u001b[39m\u001b[39mpivot_node\u001b[39m\u001b[39m\"\u001b[39m: pivot_node,\n\u001b[1;32m    168\u001b[0m     \u001b[39m\"\u001b[39m\u001b[39mnodes\u001b[39m\u001b[39m\"\u001b[39m: nodes_cp,\n\u001b[0;32m   (...)\u001b[0m\n\u001b[1;32m    171\u001b[0m     \u001b[39m\"\u001b[39m\u001b[39minitial_solution\u001b[39m\u001b[39m\"\u001b[39m: initial_solution,\n\u001b[1;32m    172\u001b[0m } \u001b[39m|\u001b[39m params[method_name]\n\u001b[0;32m--> 174\u001b[0m selected_nodes \u001b[39m=\u001b[39m method(\u001b[39m*\u001b[39;49m\u001b[39m*\u001b[39;49mparameters)\n\u001b[1;32m    175\u001b[0m first_node \u001b[39m=\u001b[39m selected_nodes[\u001b[39m0\u001b[39m]\n\u001b[1;32m    177\u001b[0m curr_run \u001b[39m=\u001b[39m Run(first_node\u001b[39m.\u001b[39mid, selected_nodes, distance_matrix)\n",
      "File \u001b[0;32m~/Projects/Python/evolutionary-computation-labs/src/algorithms/local_search_moves.py:46\u001b[0m, in \u001b[0;36mlocal_search_moves\u001b[0;34m(initial_solution, nodes, distance_matrix, **kwargs)\u001b[0m\n\u001b[1;32m     41\u001b[0m \u001b[39m# Add new moves to move_list\u001b[39;00m\n\u001b[1;32m     42\u001b[0m move_list \u001b[39m+\u001b[39m\u001b[39m=\u001b[39m _get_updated_move_list(\n\u001b[1;32m     43\u001b[0m     move, current_sequence, nodes_set, distance_matrix, counter\n\u001b[1;32m     44\u001b[0m )\n\u001b[0;32m---> 46\u001b[0m current_run \u001b[39m=\u001b[39m Run\u001b[39m.\u001b[39;49mfrom_delta(current_run, move)\n\u001b[1;32m     47\u001b[0m counter \u001b[39m+\u001b[39m\u001b[39m=\u001b[39m \u001b[39m1\u001b[39m\n\u001b[1;32m     49\u001b[0m \u001b[39m# Remove used move\u001b[39;00m\n",
      "File \u001b[0;32m~/Projects/Python/evolutionary-computation-labs/src/model/run.py:50\u001b[0m, in \u001b[0;36mRun.from_delta\u001b[0;34m(current_run, delta)\u001b[0m\n\u001b[1;32m     48\u001b[0m \u001b[39m@staticmethod\u001b[39m\n\u001b[1;32m     49\u001b[0m \u001b[39mdef\u001b[39;00m \u001b[39mfrom_delta\u001b[39m(current_run: Run, delta: Delta) \u001b[39m-\u001b[39m\u001b[39m>\u001b[39m Run:\n\u001b[0;32m---> 50\u001b[0m     modified_nodes \u001b[39m=\u001b[39m delta\u001b[39m.\u001b[39;49mapply_nodes(current_run\u001b[39m.\u001b[39;49mnodes)\n\u001b[1;32m     52\u001b[0m     node_id \u001b[39m=\u001b[39m current_run\u001b[39m.\u001b[39mnodes[\u001b[39m0\u001b[39m]\u001b[39m.\u001b[39mid\n\u001b[1;32m     53\u001b[0m     mod_cost \u001b[39m=\u001b[39m delta\u001b[39m.\u001b[39mmodified_cost\n",
      "File \u001b[0;32m~/Projects/Python/evolutionary-computation-labs/src/model/delta/delta_intra_edges.py:15\u001b[0m, in \u001b[0;36mDeltaIntraEdges.apply_nodes\u001b[0;34m(self, original_sequence)\u001b[0m\n\u001b[1;32m     12\u001b[0m \u001b[39mself\u001b[39m\u001b[39m.\u001b[39moriginal_sequence \u001b[39m=\u001b[39m original_sequence\n\u001b[1;32m     14\u001b[0m outerA, outerB \u001b[39m=\u001b[39m \u001b[39mself\u001b[39m\u001b[39m.\u001b[39mnodes\n\u001b[0;32m---> 15\u001b[0m \u001b[39mself\u001b[39;49m\u001b[39m.\u001b[39;49m_replace_connections(outerA, outerB)\n\u001b[1;32m     17\u001b[0m \u001b[39mreturn\u001b[39;00m linked_to_sequence(\u001b[39mself\u001b[39m\u001b[39m.\u001b[39moriginal_sequence[\u001b[39m0\u001b[39m])\n",
      "File \u001b[0;32m~/Projects/Python/evolutionary-computation-labs/src/model/delta/delta_intra_edges.py:83\u001b[0m, in \u001b[0;36mDeltaIntraEdges._replace_connections\u001b[0;34m(self, nodeA, nodeB)\u001b[0m\n\u001b[1;32m     80\u001b[0m \u001b[39mfor\u001b[39;00m node \u001b[39min\u001b[39;00m \u001b[39mself\u001b[39m\u001b[39m.\u001b[39moriginal_sequence[start_ind:end_ind]:\n\u001b[1;32m     81\u001b[0m     node\u001b[39m.\u001b[39mreverse_connections()\n\u001b[0;32m---> 83\u001b[0m outerA\u001b[39m.\u001b[39;49madd_next_connection(innerB)\n\u001b[1;32m     84\u001b[0m outerB\u001b[39m.\u001b[39madd_prev_connection(innerA)\n",
      "File \u001b[0;32m~/Projects/Python/evolutionary-computation-labs/src/model/node.py:22\u001b[0m, in \u001b[0;36mNode.add_next_connection\u001b[0;34m(self, node)\u001b[0m\n\u001b[1;32m     20\u001b[0m \u001b[39mdef\u001b[39;00m \u001b[39madd_next_connection\u001b[39m(\u001b[39mself\u001b[39m, node: Node) \u001b[39m-\u001b[39m\u001b[39m>\u001b[39m \u001b[39mNone\u001b[39;00m:\n\u001b[1;32m     21\u001b[0m     \u001b[39mif\u001b[39;00m \u001b[39mself\u001b[39m\u001b[39m.\u001b[39mnext_connection \u001b[39mis\u001b[39;00m \u001b[39mnot\u001b[39;00m \u001b[39mNone\u001b[39;00m \u001b[39mor\u001b[39;00m node\u001b[39m.\u001b[39mprev_connection \u001b[39mis\u001b[39;00m \u001b[39mnot\u001b[39;00m \u001b[39mNone\u001b[39;00m:\n\u001b[0;32m---> 22\u001b[0m         \u001b[39mraise\u001b[39;00m \u001b[39mValueError\u001b[39;00m(\u001b[39m\"\u001b[39m\u001b[39mNodes already have connections!\u001b[39m\u001b[39m\"\u001b[39m)\n\u001b[1;32m     24\u001b[0m     \u001b[39mself\u001b[39m\u001b[39m.\u001b[39mnext_connection \u001b[39m=\u001b[39m node\n\u001b[1;32m     25\u001b[0m     node\u001b[39m.\u001b[39mprev_connection \u001b[39m=\u001b[39m \u001b[39mself\u001b[39m\n",
      "\u001b[0;31mValueError\u001b[0m: Nodes already have connections!"
     ]
    }
   ],
   "source": [
    "grades = problem.run(\n",
    "    [\"TSPC\"],\n",
    "    [\n",
    "        Method.RANDOM,\n",
    "        Method.LOCAL_SEARCH_MOVES_RANDOM,\n",
    "    ],\n",
    ")\n"
   ]
  }
 ],
 "metadata": {
  "kernelspec": {
   "display_name": "ec_11",
   "language": "python",
   "name": "python3"
  },
  "language_info": {
   "codemirror_mode": {
    "name": "ipython",
    "version": 3
   },
   "file_extension": ".py",
   "mimetype": "text/x-python",
   "name": "python",
   "nbconvert_exporter": "python",
   "pygments_lexer": "ipython3",
   "version": "3.11.0"
  },
  "orig_nbformat": 4,
  "vscode": {
   "interpreter": {
    "hash": "a2de0476834363c3e45f0c0a72d3fbdea04a19e4f29c21f0ba85ca4a56a73969"
   }
  }
 },
 "nbformat": 4,
 "nbformat_minor": 2
}
