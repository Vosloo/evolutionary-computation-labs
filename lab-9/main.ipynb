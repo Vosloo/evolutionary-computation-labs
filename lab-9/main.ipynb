{
 "cells": [
  {
   "cell_type": "markdown",
   "metadata": {},
   "source": [
    "### Authors:\n",
    "\n",
    "Marek Szydłowski 136633<br>\n",
    "Wojciech Tomczak 145467\n",
    "\n",
    "Link to the source code: https://github.com/Vosloo/evolutionary-computation-labs"
   ]
  },
  {
   "cell_type": "code",
   "execution_count": null,
   "metadata": {},
   "outputs": [],
   "source": [
    "import functools\n",
    "import pickle\n",
    "import sys\n",
    "from itertools import repeat\n",
    "from multiprocessing import Pool\n",
    "from pathlib import Path\n",
    "\n",
    "import matplotlib.pyplot as plt\n",
    "import numpy as np\n",
    "import pandas as pd\n",
    "from IPython.display import Markdown, display"
   ]
  },
  {
   "cell_type": "code",
   "execution_count": null,
   "metadata": {},
   "outputs": [],
   "source": [
    "module_path = Path.cwd().parent\n",
    "if module_path not in sys.path:\n",
    "    sys.path.append(str(module_path))"
   ]
  },
  {
   "cell_type": "code",
   "execution_count": null,
   "metadata": {},
   "outputs": [],
   "source": [
    "from src.algorithms.methods import Method\n",
    "from src.model import Grade\n",
    "from src.model.enum import Dataset\n",
    "from src.tsp_problem import TSPProblem\n",
    "from src.utils import get_edges\n",
    "from src.visualization import Visualizer"
   ]
  },
  {
   "cell_type": "code",
   "execution_count": null,
   "metadata": {},
   "outputs": [],
   "source": [
    "problem = TSPProblem(no_runs=20)"
   ]
  },
  {
   "cell_type": "code",
   "execution_count": null,
   "metadata": {},
   "outputs": [],
   "source": [
    "def multiprocessing_transform(path: str, dataset: Dataset) -> list[dict[str, dict[str, Grade]]]:\n",
    "    grades_dump = pickle.load(open(path, \"rb\"))\n",
    "\n",
    "    best_run = None\n",
    "    runs = []\n",
    "    runtime = 0\n",
    "\n",
    "    for part_grade in grades_dump:\n",
    "        grade: Grade = part_grade[dataset][Method.LOCAL_SEARCH_GREEDY_EDGES_RANDOM]\n",
    "\n",
    "        runs.extend(grade.runs)\n",
    "        runtime += grade._runtime\n",
    "        if best_run is None or best_run > grade.best_run:\n",
    "            best_run = grade.best_run\n",
    "\n",
    "    final_grade = Grade(Method.LOCAL_SEARCH_GREEDY_EDGES_RANDOM.value, best_run, runs)\n",
    "    final_grade.set_runtime(runtime)\n",
    "\n",
    "    return {dataset: {Method.LOCAL_SEARCH_GREEDY_EDGES_RANDOM: final_grade}}"
   ]
  },
  {
   "cell_type": "code",
   "execution_count": null,
   "metadata": {},
   "outputs": [],
   "source": [
    "grades_tspc_lab_8 = multiprocessing_transform(\"../lab-8/grades_tspc.pkl\", Dataset.TSPC.value)\n",
    "grades_tspd_lab_8 = multiprocessing_transform(\"../lab-8/grades_tspd.pkl\", Dataset.TSPD.value)"
   ]
  },
  {
   "cell_type": "code",
   "execution_count": null,
   "metadata": {},
   "outputs": [],
   "source": [
    "kwargs = {\n",
    "    \"initial_runs\": {\n",
    "        Dataset.TSPC.value: grades_tspc_lab_8[Dataset.TSPC.value][\n",
    "            Method.LOCAL_SEARCH_GREEDY_EDGES_RANDOM\n",
    "        ].runs,\n",
    "        Dataset.TSPD.value: grades_tspd_lab_8[Dataset.TSPD.value][\n",
    "            Method.LOCAL_SEARCH_GREEDY_EDGES_RANDOM\n",
    "        ].runs,\n",
    "    }\n",
    "}"
   ]
  },
  {
   "cell_type": "code",
   "execution_count": null,
   "metadata": {},
   "outputs": [],
   "source": [
    "items = [\n",
    "    ((Dataset.TSPC.value,), [Method.HYBRID_EVOLUTION_OPERATOR_1], (kwargs)),\n",
    "    ((Dataset.TSPC.value,), [Method.HYBRID_EVOLUTION_OPERATOR_1_NO_LS], (kwargs)),\n",
    "    ((Dataset.TSPC.value,), [Method.HYBRID_EVOLUTION_OPERATOR_2], (kwargs)),\n",
    "    ((Dataset.TSPC.value,), [Method.HYBRID_EVOLUTION_OPERATOR_2_NO_LS], (kwargs)),\n",
    "    ((Dataset.TSPD.value,), [Method.HYBRID_EVOLUTION_OPERATOR_1], (kwargs)),\n",
    "    ((Dataset.TSPD.value,), [Method.HYBRID_EVOLUTION_OPERATOR_1_NO_LS], (kwargs)),\n",
    "    ((Dataset.TSPD.value,), [Method.HYBRID_EVOLUTION_OPERATOR_2], (kwargs)),\n",
    "    ((Dataset.TSPD.value,), [Method.HYBRID_EVOLUTION_OPERATOR_2_NO_LS], (kwargs)),\n",
    "]"
   ]
  },
  {
   "cell_type": "code",
   "execution_count": null,
   "metadata": {},
   "outputs": [],
   "source": [
    "with Pool() as pool:\n",
    "    grades = pool.starmap(problem.run, items)\n",
    "\n",
    "pickle.dump(grades, open(\"grades.pkl\", \"wb\"))"
   ]
  }
 ],
 "metadata": {
  "kernelspec": {
   "display_name": "evolution",
   "language": "python",
   "name": "python3"
  },
  "language_info": {
   "codemirror_mode": {
    "name": "ipython",
    "version": 3
   },
   "file_extension": ".py",
   "mimetype": "text/x-python",
   "name": "python",
   "nbconvert_exporter": "python",
   "pygments_lexer": "ipython3",
   "version": "3.11.0 | packaged by conda-forge | (main, Jan 14 2023, 12:27:40) [GCC 11.3.0]"
  },
  "orig_nbformat": 4,
  "vscode": {
   "interpreter": {
    "hash": "7f4eb774118fa913520df439773ba0935169d75464fb40c4b1e697d727a84335"
   }
  }
 },
 "nbformat": 4,
 "nbformat_minor": 2
}
