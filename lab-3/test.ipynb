{
 "cells": [
  {
   "cell_type": "code",
   "execution_count": 1,
   "metadata": {},
   "outputs": [],
   "source": [
    "import sys\n",
    "from pathlib import Path"
   ]
  },
  {
   "cell_type": "code",
   "execution_count": 2,
   "metadata": {},
   "outputs": [],
   "source": [
    "module_path = Path.cwd().parent\n",
    "if module_path not in sys.path:\n",
    "    sys.path.append(str(module_path))"
   ]
  },
  {
   "cell_type": "code",
   "execution_count": 3,
   "metadata": {},
   "outputs": [],
   "source": [
    "import cProfile\n",
    "import pstats\n",
    "from pstats import SortKey\n"
   ]
  },
  {
   "cell_type": "code",
   "execution_count": 4,
   "metadata": {},
   "outputs": [],
   "source": [
    "from src.tsp_problem import TSPProblem\n",
    "from src.algorithms.methods import Method\n",
    "from src.visualization import Visualizer"
   ]
  },
  {
   "cell_type": "code",
   "execution_count": 5,
   "metadata": {},
   "outputs": [
    {
     "name": "stdout",
     "output_type": "stream",
     "text": [
      "Loaded 4 instances: TSPA, TSPB, TSPC, TSPD\n",
      "Available methods: ['RANDOM', 'NEAREST', 'GREEDY_CYCLE', 'GREEDY_REGRET', 'GREEDY_REGRET_WEIGHTED', 'LOCAL_SEARCH_STEEPEST_NODES_RANDOM', 'LOCAL_SEARCH_STEEPEST_NODES_HEURISTIC', 'LOCAL_SEARCH_STEEPEST_EDGES_RANDOM', 'LOCAL_SEARCH_STEEPEST_EDGES_HEURISTIC', 'LOCAL_SEARCH_GREEDY_NODES_RANDOM', 'LOCAL_SEARCH_GREEDY_NODES_HEURISTIC', 'LOCAL_SEARCH_GREEDY_EDGES_RANDOM', 'LOCAL_SEARCH_GREEDY_EDGES_HEURISTIC']\n"
     ]
    }
   ],
   "source": [
    "problem = TSPProblem(no_runs=1)\n"
   ]
  },
  {
   "cell_type": "code",
   "execution_count": 6,
   "metadata": {},
   "outputs": [
    {
     "name": "stdout",
     "output_type": "stream",
     "text": [
      "\n",
      "Running TSPC instance\n",
      "Running RANDOM method for 1 runs\n",
      "Finished RANDOM method in 0.00s\n",
      "Running NEAREST method for 1 runs\n",
      "Finished NEAREST method in 0.01s\n",
      "Running GREEDY_CYCLE method for 1 runs\n",
      "Finished GREEDY_CYCLE method in 0.44s\n",
      "Running GREEDY_REGRET method for 1 runs\n",
      "Finished GREEDY_REGRET method in 0.47s\n",
      "Running GREEDY_REGRET_WEIGHTED method for 1 runs\n",
      "Finished GREEDY_REGRET_WEIGHTED method in 0.47s\n",
      "Running LOCAL_SEARCH_STEEPEST_NODES_RANDOM method for 1 runs\n",
      "Finished LOCAL_SEARCH_STEEPEST_NODES_RANDOM method in 10.20s\n",
      "Running LOCAL_SEARCH_STEEPEST_NODES_HEURISTIC method for 1 runs\n",
      "Finished LOCAL_SEARCH_STEEPEST_NODES_HEURISTIC method in 0.32s\n",
      "Running LOCAL_SEARCH_STEEPEST_EDGES_RANDOM method for 1 runs\n",
      "Finished LOCAL_SEARCH_STEEPEST_EDGES_RANDOM method in 7.25s\n",
      "Running LOCAL_SEARCH_STEEPEST_EDGES_HEURISTIC method for 1 runs\n",
      "Finished LOCAL_SEARCH_STEEPEST_EDGES_HEURISTIC method in 0.20s\n",
      "Running LOCAL_SEARCH_GREEDY_NODES_RANDOM method for 1 runs\n",
      "Finished LOCAL_SEARCH_GREEDY_NODES_RANDOM method in 14.60s\n",
      "Running LOCAL_SEARCH_GREEDY_NODES_HEURISTIC method for 1 runs\n",
      "Finished LOCAL_SEARCH_GREEDY_NODES_HEURISTIC method in 0.21s\n",
      "Running LOCAL_SEARCH_GREEDY_EDGES_RANDOM method for 1 runs\n",
      "Finished LOCAL_SEARCH_GREEDY_EDGES_RANDOM method in 13.73s\n",
      "Running LOCAL_SEARCH_GREEDY_EDGES_HEURISTIC method for 1 runs\n",
      "Finished LOCAL_SEARCH_GREEDY_EDGES_HEURISTIC method in 0.32s\n"
     ]
    }
   ],
   "source": [
    "# with cProfile.Profile() as pr:\n",
    "grades = problem.run([\"TSPC\"])"
   ]
  },
  {
   "cell_type": "code",
   "execution_count": 7,
   "metadata": {},
   "outputs": [
    {
     "ename": "RuntimeError",
     "evalue": "No active exception to reraise",
     "output_type": "error",
     "traceback": [
      "\u001b[0;31m---------------------------------------------------------------------------\u001b[0m",
      "\u001b[0;31mRuntimeError\u001b[0m                              Traceback (most recent call last)",
      "\u001b[1;32m/home/marek/Projects/Python/evolutionary-computation-labs/lab-3/test.ipynb Cell 7\u001b[0m in \u001b[0;36m<cell line: 1>\u001b[0;34m()\u001b[0m\n\u001b[0;32m----> <a href='vscode-notebook-cell:/home/marek/Projects/Python/evolutionary-computation-labs/lab-3/test.ipynb#X33sZmlsZQ%3D%3D?line=0'>1</a>\u001b[0m \u001b[39mraise\u001b[39;00m\n",
      "\u001b[0;31mRuntimeError\u001b[0m: No active exception to reraise"
     ]
    }
   ],
   "source": [
    "raise"
   ]
  },
  {
   "cell_type": "code",
   "execution_count": null,
   "metadata": {},
   "outputs": [],
   "source": [
    "for instance_name, instance_grades in grades.items():\n",
    "    print(f\"\\n{instance_name}:\")\n",
    "    print(\"----\")\n",
    "    for method_name, grade in instance_grades.items():\n",
    "        meth_name = method_name.value.replace(\"_\", \" \").title()\n",
    "        print(f\"{meth_name}: {grade}\")"
   ]
  },
  {
   "cell_type": "code",
   "execution_count": null,
   "metadata": {},
   "outputs": [],
   "source": [
    "visualizer = Visualizer()"
   ]
  },
  {
   "cell_type": "code",
   "execution_count": null,
   "metadata": {},
   "outputs": [],
   "source": [
    "for instance_name, instance_grades in grades.items():\n",
    "    for method_name, grade in instance_grades.items():\n",
    "        visualizer.visualise_solution(grade, instance_name, method_name)"
   ]
  },
  {
   "cell_type": "code",
   "execution_count": null,
   "metadata": {},
   "outputs": [],
   "source": [
    "raise"
   ]
  },
  {
   "cell_type": "code",
   "execution_count": null,
   "metadata": {},
   "outputs": [],
   "source": [
    "pr.dump_stats(\"new1.prof\")"
   ]
  },
  {
   "cell_type": "code",
   "execution_count": null,
   "metadata": {},
   "outputs": [],
   "source": [
    "\n",
    "p = pstats.Stats(\"new1.prof\")\n",
    "p.sort_stats(SortKey.CUMULATIVE).print_stats(20)"
   ]
  },
  {
   "cell_type": "code",
   "execution_count": null,
   "metadata": {},
   "outputs": [],
   "source": [
    "\n",
    "p = pstats.Stats(\"new.prof\")\n",
    "p.sort_stats(SortKey.CUMULATIVE).print_stats(20)\n"
   ]
  },
  {
   "cell_type": "code",
   "execution_count": null,
   "metadata": {},
   "outputs": [],
   "source": [
    "p = pstats.Stats(\"og.prof\")\n",
    "p.sort_stats(SortKey.CUMULATIVE).print_stats(20)\n"
   ]
  },
  {
   "cell_type": "code",
   "execution_count": null,
   "metadata": {},
   "outputs": [],
   "source": []
  }
 ],
 "metadata": {
  "kernelspec": {
   "display_name": "ec",
   "language": "python",
   "name": "python3"
  },
  "language_info": {
   "codemirror_mode": {
    "name": "ipython",
    "version": 3
   },
   "file_extension": ".py",
   "mimetype": "text/x-python",
   "name": "python",
   "nbconvert_exporter": "python",
   "pygments_lexer": "ipython3",
   "version": "3.10.6"
  },
  "orig_nbformat": 4,
  "vscode": {
   "interpreter": {
    "hash": "1e30a881f08a0c4073d89b6283bcc77c203b3a40b1ec249f3d329929b6c90ee9"
   }
  }
 },
 "nbformat": 4,
 "nbformat_minor": 2
}
