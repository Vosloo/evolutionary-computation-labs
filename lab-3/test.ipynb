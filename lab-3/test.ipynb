{
 "cells": [
  {
   "cell_type": "code",
   "execution_count": null,
   "metadata": {},
   "outputs": [],
   "source": [
    "import sys\n",
    "from pathlib import Path"
   ]
  },
  {
   "cell_type": "code",
   "execution_count": null,
   "metadata": {},
   "outputs": [],
   "source": [
    "module_path = Path.cwd().parent\n",
    "if module_path not in sys.path:\n",
    "    sys.path.append(str(module_path))"
   ]
  },
  {
   "cell_type": "code",
   "execution_count": null,
   "metadata": {},
   "outputs": [],
   "source": [
    "import cProfile\n",
    "import pstats\n",
    "from pstats import SortKey\n",
    "from multiprocessing import Process\n"
   ]
  },
  {
   "cell_type": "code",
   "execution_count": null,
   "metadata": {},
   "outputs": [],
   "source": [
    "import numpy as np"
   ]
  },
  {
   "cell_type": "code",
   "execution_count": null,
   "metadata": {},
   "outputs": [],
   "source": [
    "from src.tsp_problem import TSPProblem\n",
    "from src.algorithms.methods import Method\n",
    "from src.visualization import Visualizer"
   ]
  },
  {
   "cell_type": "code",
   "execution_count": null,
   "metadata": {},
   "outputs": [],
   "source": [
    "problem = TSPProblem(no_runs=1)\n"
   ]
  },
  {
   "cell_type": "code",
   "execution_count": null,
   "metadata": {},
   "outputs": [],
   "source": [
    "problem.run([\"TSPC\"], [Method.RANDOM, Method.GREEDY_REGRET_WEIGHTED])\n",
    "\n",
    "no_processes = 8\n",
    "processes = []\n",
    "methods = [meth for meth in list(Method) if meth not in (Method.RANDOM, Method.GREEDY_REGRET_WEIGHTED)]\n",
    "methods = list(map(list, np.array_split(methods, no_processes)))\n",
    "for i in range(no_processes):\n",
    "    processes.append(Process(target=problem.run, args=((\"TSPC\", \"TSPD\",), methods[i])))\n",
    "    processes[i].start()\n",
    "\n",
    "for i in range(no_processes):\n",
    "    processes[i].join()\n"
   ]
  },
  {
   "cell_type": "code",
   "execution_count": null,
   "metadata": {},
   "outputs": [],
   "source": [
    "for instance_name, instance_grades in grades.items():\n",
    "    print(f\"\\n{instance_name}:\")\n",
    "    print(\"----\")\n",
    "    for method_name, grade in instance_grades.items():\n",
    "        meth_name = method_name.value.replace(\"_\", \" \").title()\n",
    "        print(f\"{meth_name}: {grade}\")"
   ]
  },
  {
   "cell_type": "code",
   "execution_count": null,
   "metadata": {},
   "outputs": [],
   "source": [
    "visualizer = Visualizer()"
   ]
  },
  {
   "cell_type": "code",
   "execution_count": null,
   "metadata": {},
   "outputs": [],
   "source": [
    "for instance_name, instance_grades in grades.items():\n",
    "    for method_name, grade in instance_grades.items():\n",
    "        visualizer.visualise_solution(grade, instance_name, method_name)"
   ]
  },
  {
   "cell_type": "code",
   "execution_count": null,
   "metadata": {},
   "outputs": [],
   "source": [
    "raise"
   ]
  },
  {
   "cell_type": "code",
   "execution_count": null,
   "metadata": {},
   "outputs": [],
   "source": [
    "pr.dump_stats(\"new1.prof\")"
   ]
  },
  {
   "cell_type": "code",
   "execution_count": null,
   "metadata": {},
   "outputs": [],
   "source": [
    "\n",
    "p = pstats.Stats(\"new1.prof\")\n",
    "p.sort_stats(SortKey.CUMULATIVE).print_stats(20)"
   ]
  },
  {
   "cell_type": "code",
   "execution_count": null,
   "metadata": {},
   "outputs": [],
   "source": [
    "\n",
    "p = pstats.Stats(\"new.prof\")\n",
    "p.sort_stats(SortKey.CUMULATIVE).print_stats(20)\n"
   ]
  },
  {
   "cell_type": "code",
   "execution_count": null,
   "metadata": {},
   "outputs": [],
   "source": [
    "p = pstats.Stats(\"og.prof\")\n",
    "p.sort_stats(SortKey.CUMULATIVE).print_stats(20)\n"
   ]
  },
  {
   "cell_type": "code",
   "execution_count": null,
   "metadata": {},
   "outputs": [],
   "source": []
  }
 ],
 "metadata": {
  "kernelspec": {
   "display_name": "ec_11",
   "language": "python",
   "name": "python3"
  },
  "language_info": {
   "codemirror_mode": {
    "name": "ipython",
    "version": 3
   },
   "file_extension": ".py",
   "mimetype": "text/x-python",
   "name": "python",
   "nbconvert_exporter": "python",
   "pygments_lexer": "ipython3",
   "version": "3.11.0"
  },
  "orig_nbformat": 4,
  "vscode": {
   "interpreter": {
    "hash": "a2de0476834363c3e45f0c0a72d3fbdea04a19e4f29c21f0ba85ca4a56a73969"
   }
  }
 },
 "nbformat": 4,
 "nbformat_minor": 2
}
