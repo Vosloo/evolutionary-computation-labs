{
 "cells": [
  {
   "cell_type": "code",
   "execution_count": 1,
   "metadata": {},
   "outputs": [],
   "source": [
    "import sys\n",
    "from pathlib import Path"
   ]
  },
  {
   "cell_type": "code",
   "execution_count": 2,
   "metadata": {},
   "outputs": [],
   "source": [
    "module_path = Path.cwd().parent\n",
    "if module_path not in sys.path:\n",
    "    sys.path.append(str(module_path))"
   ]
  },
  {
   "cell_type": "code",
   "execution_count": 3,
   "metadata": {},
   "outputs": [],
   "source": [
    "import cProfile\n"
   ]
  },
  {
   "cell_type": "code",
   "execution_count": 4,
   "metadata": {},
   "outputs": [],
   "source": [
    "from src.tsp_problem import TSPProblem\n",
    "from src.algorithms.methods import Method"
   ]
  },
  {
   "cell_type": "code",
   "execution_count": 5,
   "metadata": {},
   "outputs": [
    {
     "name": "stdout",
     "output_type": "stream",
     "text": [
      "Loaded 4 instances: TSPA, TSPB, TSPC, TSPD\n",
      "Available methods: ['RANDOM', 'NEAREST', 'GREEDY_CYCLE', 'GREEDY_REGRET', 'GREEDY_REGRET_WEIGHTED', 'LOCAL_SEARCH_STEEPEST_NODES_RANDOM', 'LOCAL_SEARCH_STEEPEST_NODES_HEURISTIC', 'LOCAL_SEARCH_STEEPEST_EDGES_RANDOM', 'LOCAL_SEARCH_STEEPEST_EDGES_HEURISTIC', 'LOCAL_SEARCH_GREEDY_NODES_RANDOM', 'LOCAL_SEARCH_GREEDY_NODES_HEURISTIC', 'LOCAL_SEARCH_GREEDY_EDGES_RANDOM', 'LOCAL_SEARCH_GREEDY_EDGES_HEURISTIC']\n"
     ]
    }
   ],
   "source": [
    "problem = TSPProblem(no_runs=1)\n"
   ]
  },
  {
   "cell_type": "code",
   "execution_count": 6,
   "metadata": {},
   "outputs": [
    {
     "name": "stdout",
     "output_type": "stream",
     "text": [
      "\n",
      "Running TSPC instance\n",
      "Running RANDOM method for 1 runs\n",
      "Finished RANDOM method in 0.00s\n",
      "Running LOCAL_SEARCH_GREEDY_EDGES_RANDOM method for 1 runs\n",
      "Finished LOCAL_SEARCH_GREEDY_EDGES_RANDOM method in 82.24s\n"
     ]
    }
   ],
   "source": [
    "with cProfile.Profile() as pr:\n",
    "    grades = problem.run([\"TSPC\"], methods=[Method.RANDOM, Method.LOCAL_SEARCH_GREEDY_EDGES_RANDOM])"
   ]
  },
  {
   "cell_type": "code",
   "execution_count": 7,
   "metadata": {},
   "outputs": [],
   "source": [
    "pr.dump_stats(\"new.prof\")"
   ]
  },
  {
   "cell_type": "code",
   "execution_count": 8,
   "metadata": {},
   "outputs": [
    {
     "name": "stdout",
     "output_type": "stream",
     "text": [
      "Tue Nov 15 20:49:00 2022    og.prof\n",
      "\n",
      "         516467602 function calls (516461986 primitive calls) in 82.244 seconds\n",
      "\n",
      "   Ordered by: cumulative time\n",
      "   List reduced from 314 to 10 due to restriction <10>\n",
      "\n",
      "   ncalls  tottime  percall  cumtime  percall filename:lineno(function)\n",
      "        1    0.000    0.000   82.244   82.244 /home/marek/Projects/Python/evolutionary-computation-labs/src/tsp_problem.py:90(run)\n",
      "        1    0.000    0.000   82.241   82.241 /home/marek/Projects/Python/evolutionary-computation-labs/src/tsp_problem.py:161(_grade_methods)\n",
      "        2    0.004    0.002   82.241   41.120 /home/marek/Projects/Python/evolutionary-computation-labs/src/tsp_problem.py:123(_grade_method)\n",
      "        1    2.021    2.021   82.228   82.228 /home/marek/Projects/Python/evolutionary-computation-labs/src/algorithms/local_search.py:7(local_search)\n",
      "      449    1.890    0.004   63.034    0.140 /home/marek/Projects/Python/evolutionary-computation-labs/src/algorithms/local_search.py:53(_inter)\n",
      "  4490000   17.444    0.000   54.917    0.000 {method 'index' of 'list' objects}\n",
      "222272431   29.894    0.000   37.478    0.000 /home/marek/Projects/Python/evolutionary-computation-labs/src/model/node.py:20(__eq__)\n",
      "222374067    7.591    0.000    7.591    0.000 {built-in method builtins.isinstance}\n",
      "   100627    0.070    0.000    6.906    0.000 /home/marek/Projects/Python/evolutionary-computation-labs/src/model/run.py:8(__init__)\n",
      "   201256    1.531    0.000    6.692    0.000 {built-in method builtins.sum}\n",
      "\n",
      "\n"
     ]
    },
    {
     "data": {
      "text/plain": [
       "<pstats.Stats at 0x7f64845c1600>"
      ]
     },
     "execution_count": 8,
     "metadata": {},
     "output_type": "execute_result"
    }
   ],
   "source": [
    "import pstats\n",
    "from pstats import SortKey\n",
    "\n",
    "p = pstats.Stats(\"og.prof\")\n",
    "p.sort_stats(SortKey.CUMULATIVE).print_stats(10)\n"
   ]
  },
  {
   "cell_type": "code",
   "execution_count": null,
   "metadata": {},
   "outputs": [],
   "source": []
  }
 ],
 "metadata": {
  "kernelspec": {
   "display_name": "ec",
   "language": "python",
   "name": "python3"
  },
  "language_info": {
   "codemirror_mode": {
    "name": "ipython",
    "version": 3
   },
   "file_extension": ".py",
   "mimetype": "text/x-python",
   "name": "python",
   "nbconvert_exporter": "python",
   "pygments_lexer": "ipython3",
   "version": "3.10.6"
  },
  "orig_nbformat": 4,
  "vscode": {
   "interpreter": {
    "hash": "1e30a881f08a0c4073d89b6283bcc77c203b3a40b1ec249f3d329929b6c90ee9"
   }
  }
 },
 "nbformat": 4,
 "nbformat_minor": 2
}
