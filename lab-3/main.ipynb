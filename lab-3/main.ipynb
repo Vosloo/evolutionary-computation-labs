{
 "cells": [
  {
   "cell_type": "code",
   "execution_count": 1,
   "metadata": {},
   "outputs": [],
   "source": [
    "import sys\n",
    "from pathlib import Path"
   ]
  },
  {
   "cell_type": "code",
   "execution_count": 2,
   "metadata": {},
   "outputs": [],
   "source": [
    "module_path = Path.cwd().parent\n",
    "if module_path not in sys.path:\n",
    "    sys.path.append(str(module_path))"
   ]
  },
  {
   "cell_type": "code",
   "execution_count": 3,
   "metadata": {},
   "outputs": [],
   "source": [
    "import pickle\n",
    "import multiprocessing\n",
    "from itertools import product"
   ]
  },
  {
   "cell_type": "code",
   "execution_count": 4,
   "metadata": {},
   "outputs": [],
   "source": [
    "from src.tsp_problem import TSPProblem\n",
    "from src.visualization import Visualizer\n",
    "from src.algorithms.methods import Method\n"
   ]
  },
  {
   "cell_type": "code",
   "execution_count": 5,
   "metadata": {},
   "outputs": [],
   "source": [
    "import pandas as pd"
   ]
  },
  {
   "cell_type": "code",
   "execution_count": 6,
   "metadata": {},
   "outputs": [
    {
     "name": "stdout",
     "output_type": "stream",
     "text": [
      "Loaded 4 instances: TSPA, TSPB, TSPC, TSPD\n",
      "Available methods: ['RANDOM', 'NEAREST', 'GREEDY_CYCLE', 'GREEDY_REGRET', 'GREEDY_REGRET_WEIGHTED', 'LOCAL_SEARCH_STEEPEST_NODES_RANDOM', 'LOCAL_SEARCH_STEEPEST_NODES_HEURISTIC', 'LOCAL_SEARCH_STEEPEST_EDGES_RANDOM', 'LOCAL_SEARCH_STEEPEST_EDGES_HEURISTIC', 'LOCAL_SEARCH_GREEDY_NODES_RANDOM', 'LOCAL_SEARCH_GREEDY_NODES_HEURISTIC', 'LOCAL_SEARCH_GREEDY_EDGES_RANDOM', 'LOCAL_SEARCH_GREEDY_EDGES_HEURISTIC']\n"
     ]
    }
   ],
   "source": [
    "problem = TSPProblem(no_runs=10)"
   ]
  },
  {
   "cell_type": "code",
   "execution_count": 7,
   "metadata": {},
   "outputs": [
    {
     "ename": "KeyError",
     "evalue": "'T'",
     "output_type": "error",
     "traceback": [
      "\u001b[0;31m---------------------------------------------------------------------------\u001b[0m",
      "\u001b[0;31mRemoteTraceback\u001b[0m                           Traceback (most recent call last)",
      "\u001b[0;31mRemoteTraceback\u001b[0m: \n\"\"\"\nTraceback (most recent call last):\n  File \"/home/marek/anaconda3/envs/ec/lib/python3.10/multiprocessing/pool.py\", line 125, in worker\n    result = (True, func(*args, **kwds))\n  File \"/home/marek/anaconda3/envs/ec/lib/python3.10/multiprocessing/pool.py\", line 51, in starmapstar\n    return list(itertools.starmap(args[0], args[1]))\n  File \"/home/marek/Projects/Python/evolutionary-computation-labs/src/tsp_problem.py\", line 96, in run\n    selected_instances = {instance: self.instances[instance] for instance in instances}\n  File \"/home/marek/Projects/Python/evolutionary-computation-labs/src/tsp_problem.py\", line 96, in <dictcomp>\n    selected_instances = {instance: self.instances[instance] for instance in instances}\nKeyError: 'T'\n\"\"\"",
      "\nThe above exception was the direct cause of the following exception:\n",
      "\u001b[0;31mKeyError\u001b[0m                                  Traceback (most recent call last)",
      "\u001b[1;32m/home/marek/Projects/Python/evolutionary-computation-labs/lab-3/main.ipynb Cell 7\u001b[0m in \u001b[0;36m<cell line: 1>\u001b[0;34m()\u001b[0m\n\u001b[1;32m      <a href='vscode-notebook-cell:/home/marek/Projects/Python/evolutionary-computation-labs/lab-3/main.ipynb#X24sZmlsZQ%3D%3D?line=0'>1</a>\u001b[0m \u001b[39mwith\u001b[39;00m multiprocessing\u001b[39m.\u001b[39mPool(\u001b[39m6\u001b[39m) \u001b[39mas\u001b[39;00m pool:\n\u001b[0;32m----> <a href='vscode-notebook-cell:/home/marek/Projects/Python/evolutionary-computation-labs/lab-3/main.ipynb#X24sZmlsZQ%3D%3D?line=1'>2</a>\u001b[0m     results \u001b[39m=\u001b[39m pool\u001b[39m.\u001b[39;49mstarmap(problem\u001b[39m.\u001b[39;49mrun, product([\u001b[39m\"\u001b[39;49m\u001b[39mTSPC\u001b[39;49m\u001b[39m\"\u001b[39;49m, \u001b[39m\"\u001b[39;49m\u001b[39mTSPD\u001b[39;49m\u001b[39m\"\u001b[39;49m], [\n\u001b[1;32m      <a href='vscode-notebook-cell:/home/marek/Projects/Python/evolutionary-computation-labs/lab-3/main.ipynb#X24sZmlsZQ%3D%3D?line=2'>3</a>\u001b[0m         Method\u001b[39m.\u001b[39;49mRANDOM,\n\u001b[1;32m      <a href='vscode-notebook-cell:/home/marek/Projects/Python/evolutionary-computation-labs/lab-3/main.ipynb#X24sZmlsZQ%3D%3D?line=3'>4</a>\u001b[0m         Method\u001b[39m.\u001b[39;49mNEAREST,\n\u001b[1;32m      <a href='vscode-notebook-cell:/home/marek/Projects/Python/evolutionary-computation-labs/lab-3/main.ipynb#X24sZmlsZQ%3D%3D?line=4'>5</a>\u001b[0m         Method\u001b[39m.\u001b[39;49mGREEDY_CYCLE,\n\u001b[1;32m      <a href='vscode-notebook-cell:/home/marek/Projects/Python/evolutionary-computation-labs/lab-3/main.ipynb#X24sZmlsZQ%3D%3D?line=5'>6</a>\u001b[0m         Method\u001b[39m.\u001b[39;49mGREEDY_REGRET,\n\u001b[1;32m      <a href='vscode-notebook-cell:/home/marek/Projects/Python/evolutionary-computation-labs/lab-3/main.ipynb#X24sZmlsZQ%3D%3D?line=6'>7</a>\u001b[0m         Method\u001b[39m.\u001b[39;49mGREEDY_REGRET_WEIGHTED,\n\u001b[1;32m      <a href='vscode-notebook-cell:/home/marek/Projects/Python/evolutionary-computation-labs/lab-3/main.ipynb#X24sZmlsZQ%3D%3D?line=7'>8</a>\u001b[0m         \u001b[39m# Method.LOCAL_SEARCH_STEEPEST_NODES_RANDOM,\u001b[39;49;00m\n\u001b[1;32m      <a href='vscode-notebook-cell:/home/marek/Projects/Python/evolutionary-computation-labs/lab-3/main.ipynb#X24sZmlsZQ%3D%3D?line=8'>9</a>\u001b[0m         \u001b[39m# Method.LOCAL_SEARCH_STEEPEST_NODES_HEURISTIC,\u001b[39;49;00m\n\u001b[1;32m     <a href='vscode-notebook-cell:/home/marek/Projects/Python/evolutionary-computation-labs/lab-3/main.ipynb#X24sZmlsZQ%3D%3D?line=9'>10</a>\u001b[0m         \u001b[39m# Method.LOCAL_SEARCH_STEEPEST_EDGES_RANDOM,\u001b[39;49;00m\n\u001b[1;32m     <a href='vscode-notebook-cell:/home/marek/Projects/Python/evolutionary-computation-labs/lab-3/main.ipynb#X24sZmlsZQ%3D%3D?line=10'>11</a>\u001b[0m         \u001b[39m# Method.LOCAL_SEARCH_STEEPEST_EDGES_HEURISTIC,\u001b[39;49;00m\n\u001b[1;32m     <a href='vscode-notebook-cell:/home/marek/Projects/Python/evolutionary-computation-labs/lab-3/main.ipynb#X24sZmlsZQ%3D%3D?line=11'>12</a>\u001b[0m         Method\u001b[39m.\u001b[39;49mLOCAL_SEARCH_GREEDY_NODES_RANDOM,\n\u001b[1;32m     <a href='vscode-notebook-cell:/home/marek/Projects/Python/evolutionary-computation-labs/lab-3/main.ipynb#X24sZmlsZQ%3D%3D?line=12'>13</a>\u001b[0m         Method\u001b[39m.\u001b[39;49mLOCAL_SEARCH_GREEDY_NODES_HEURISTIC,\n\u001b[1;32m     <a href='vscode-notebook-cell:/home/marek/Projects/Python/evolutionary-computation-labs/lab-3/main.ipynb#X24sZmlsZQ%3D%3D?line=13'>14</a>\u001b[0m         Method\u001b[39m.\u001b[39;49mLOCAL_SEARCH_GREEDY_EDGES_RANDOM,\n\u001b[1;32m     <a href='vscode-notebook-cell:/home/marek/Projects/Python/evolutionary-computation-labs/lab-3/main.ipynb#X24sZmlsZQ%3D%3D?line=14'>15</a>\u001b[0m         Method\u001b[39m.\u001b[39;49mLOCAL_SEARCH_GREEDY_EDGES_HEURISTIC,\n\u001b[1;32m     <a href='vscode-notebook-cell:/home/marek/Projects/Python/evolutionary-computation-labs/lab-3/main.ipynb#X24sZmlsZQ%3D%3D?line=15'>16</a>\u001b[0m     ]))\n",
      "File \u001b[0;32m~/anaconda3/envs/ec/lib/python3.10/multiprocessing/pool.py:375\u001b[0m, in \u001b[0;36mPool.starmap\u001b[0;34m(self, func, iterable, chunksize)\u001b[0m\n\u001b[1;32m    369\u001b[0m \u001b[39mdef\u001b[39;00m \u001b[39mstarmap\u001b[39m(\u001b[39mself\u001b[39m, func, iterable, chunksize\u001b[39m=\u001b[39m\u001b[39mNone\u001b[39;00m):\n\u001b[1;32m    370\u001b[0m     \u001b[39m'''\u001b[39;00m\n\u001b[1;32m    371\u001b[0m \u001b[39m    Like `map()` method but the elements of the `iterable` are expected to\u001b[39;00m\n\u001b[1;32m    372\u001b[0m \u001b[39m    be iterables as well and will be unpacked as arguments. Hence\u001b[39;00m\n\u001b[1;32m    373\u001b[0m \u001b[39m    `func` and (a, b) becomes func(a, b).\u001b[39;00m\n\u001b[1;32m    374\u001b[0m \u001b[39m    '''\u001b[39;00m\n\u001b[0;32m--> 375\u001b[0m     \u001b[39mreturn\u001b[39;00m \u001b[39mself\u001b[39;49m\u001b[39m.\u001b[39;49m_map_async(func, iterable, starmapstar, chunksize)\u001b[39m.\u001b[39;49mget()\n",
      "File \u001b[0;32m~/anaconda3/envs/ec/lib/python3.10/multiprocessing/pool.py:774\u001b[0m, in \u001b[0;36mApplyResult.get\u001b[0;34m(self, timeout)\u001b[0m\n\u001b[1;32m    772\u001b[0m     \u001b[39mreturn\u001b[39;00m \u001b[39mself\u001b[39m\u001b[39m.\u001b[39m_value\n\u001b[1;32m    773\u001b[0m \u001b[39melse\u001b[39;00m:\n\u001b[0;32m--> 774\u001b[0m     \u001b[39mraise\u001b[39;00m \u001b[39mself\u001b[39m\u001b[39m.\u001b[39m_value\n",
      "\u001b[0;31mKeyError\u001b[0m: 'T'"
     ]
    }
   ],
   "source": [
    "with multiprocessing.Pool(6) as pool:\n",
    "    results = pool.starmap(problem.run, product([\"TSPC\", \"TSPD\"], [\n",
    "        Method.RANDOM,\n",
    "        Method.NEAREST,\n",
    "        Method.GREEDY_CYCLE,\n",
    "        Method.GREEDY_REGRET,\n",
    "        Method.GREEDY_REGRET_WEIGHTED,\n",
    "        # Method.LOCAL_SEARCH_STEEPEST_NODES_RANDOM,\n",
    "        # Method.LOCAL_SEARCH_STEEPEST_NODES_HEURISTIC,\n",
    "        # Method.LOCAL_SEARCH_STEEPEST_EDGES_RANDOM,\n",
    "        # Method.LOCAL_SEARCH_STEEPEST_EDGES_HEURISTIC,\n",
    "        Method.LOCAL_SEARCH_GREEDY_NODES_RANDOM,\n",
    "        Method.LOCAL_SEARCH_GREEDY_NODES_HEURISTIC,\n",
    "        Method.LOCAL_SEARCH_GREEDY_EDGES_RANDOM,\n",
    "        Method.LOCAL_SEARCH_GREEDY_EDGES_HEURISTIC,\n",
    "    ]))\n",
    "\n",
    "# grades = problem.run(\n",
    "#     instances=[\"TSPC\", \"TSPD\"],\n",
    "    # methods=[\n",
    "    #     Method.RANDOM,\n",
    "    #     Method.NEAREST,\n",
    "    #     Method.GREEDY_CYCLE,\n",
    "    #     Method.GREEDY_REGRET,\n",
    "    #     Method.GREEDY_REGRET_WEIGHTED,\n",
    "    #     # Method.LOCAL_SEARCH_STEEPEST_NODES_RANDOM,\n",
    "    #     # Method.LOCAL_SEARCH_STEEPEST_NODES_HEURISTIC,\n",
    "    #     # Method.LOCAL_SEARCH_STEEPEST_EDGES_RANDOM,\n",
    "    #     # Method.LOCAL_SEARCH_STEEPEST_EDGES_HEURISTIC,\n",
    "    #     Method.LOCAL_SEARCH_GREEDY_NODES_RANDOM,\n",
    "    #     Method.LOCAL_SEARCH_GREEDY_NODES_HEURISTIC,\n",
    "    #     Method.LOCAL_SEARCH_GREEDY_EDGES_RANDOM,\n",
    "    #     Method.LOCAL_SEARCH_GREEDY_EDGES_HEURISTIC,\n",
    "    # ],\n",
    "# )\n",
    "# grades = pickle.load(open(\"grades.pkl\", \"rb\"))\n"
   ]
  },
  {
   "cell_type": "code",
   "execution_count": null,
   "metadata": {},
   "outputs": [],
   "source": [
    "for instance_name, instance_grades in grades.items():\n",
    "    print(f\"\\n{instance_name}:\")\n",
    "    print(\"----\")\n",
    "    for method_name, grade in instance_grades.items():\n",
    "        meth_name = method_name.value.replace(\"_\", \" \").title()\n",
    "        print(f\"{meth_name}: {grade}\")"
   ]
  },
  {
   "cell_type": "code",
   "execution_count": null,
   "metadata": {},
   "outputs": [],
   "source": [
    "visualizer = Visualizer()"
   ]
  },
  {
   "cell_type": "code",
   "execution_count": null,
   "metadata": {},
   "outputs": [],
   "source": [
    "for instance_name, instance_grades in grades.items():\n",
    "    for method_name, grade in instance_grades.items():\n",
    "        visualizer.visualise_solution(grade, instance_name, method_name)"
   ]
  },
  {
   "cell_type": "code",
   "execution_count": null,
   "metadata": {},
   "outputs": [],
   "source": []
  }
 ],
 "metadata": {
  "kernelspec": {
   "display_name": "Python 3.10.6 ('ec')",
   "language": "python",
   "name": "python3"
  },
  "language_info": {
   "codemirror_mode": {
    "name": "ipython",
    "version": 3
   },
   "file_extension": ".py",
   "mimetype": "text/x-python",
   "name": "python",
   "nbconvert_exporter": "python",
   "pygments_lexer": "ipython3",
   "version": "3.10.6"
  },
  "orig_nbformat": 4,
  "vscode": {
   "interpreter": {
    "hash": "1e30a881f08a0c4073d89b6283bcc77c203b3a40b1ec249f3d329929b6c90ee9"
   }
  }
 },
 "nbformat": 4,
 "nbformat_minor": 2
}
