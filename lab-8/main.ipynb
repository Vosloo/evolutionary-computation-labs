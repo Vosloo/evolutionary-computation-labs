{
 "cells": [
  {
   "cell_type": "code",
   "execution_count": 1,
   "metadata": {},
   "outputs": [],
   "source": [
    "import sys\n",
    "from pathlib import Path"
   ]
  },
  {
   "cell_type": "code",
   "execution_count": 2,
   "metadata": {},
   "outputs": [],
   "source": [
    "module_path = Path.cwd().parent\n",
    "if module_path not in sys.path:\n",
    "    sys.path.append(str(module_path))"
   ]
  },
  {
   "cell_type": "code",
   "execution_count": 3,
   "metadata": {},
   "outputs": [],
   "source": [
    "import numpy as np\n",
    "import pandas as pd\n",
    "\n",
    "from multiprocessing import Pool\n",
    "import pickle\n",
    "\n",
    "from IPython.display import display, Markdown"
   ]
  },
  {
   "cell_type": "code",
   "execution_count": 4,
   "metadata": {},
   "outputs": [],
   "source": [
    "from src.tsp_problem import TSPProblem\n",
    "from src.algorithms.methods import Method\n",
    "from src.visualization import Visualizer\n"
   ]
  },
  {
   "cell_type": "code",
   "execution_count": 12,
   "metadata": {},
   "outputs": [
    {
     "name": "stdout",
     "output_type": "stream",
     "text": [
      "Loaded 4 instances: TSPA, TSPB, TSPC, TSPD\n",
      "Available methods: ['RANDOM_SEQUENCE', 'NEAREST', 'GREEDY_CYCLE', 'GREEDY_REGRET', 'GREEDY_REGRET_WEIGHTED', 'LOCAL_SEARCH_STEEPEST_NODES_RANDOM', 'LOCAL_SEARCH_STEEPEST_NODES_HEURISTIC', 'LOCAL_SEARCH_STEEPEST_EDGES_RANDOM', 'LOCAL_SEARCH_STEEPEST_EDGES_HEURISTIC', 'LOCAL_SEARCH_GREEDY_NODES_RANDOM', 'LOCAL_SEARCH_GREEDY_NODES_HEURISTIC', 'LOCAL_SEARCH_GREEDY_EDGES_RANDOM', 'LOCAL_SEARCH_GREEDY_EDGES_HEURISTIC', 'LOCAL_SEARCH_CANDIDATES_RANDOM', 'LOCAL_SEARCH_CANDIDATES_HEURISTIC', 'LOCAL_SEARCH_MOVES_RANDOM', 'LOCAL_SEARCH_MSLS', 'LOCAL_SEARCH_ITERATIVE', 'LOCAL_SEARCH_LSN_NO_LS', 'LOCAL_SEARCH_LSN_WITH_LS']\n"
     ]
    }
   ],
   "source": [
    "problem = TSPProblem(no_runs=1)"
   ]
  },
  {
   "cell_type": "code",
   "execution_count": 13,
   "metadata": {},
   "outputs": [],
   "source": [
    "items = items = [\n",
    "    ((\"TSPC\",), [Method.LOCAL_SEARCH_GREEDY_EDGES_RANDOM]),\n",
    "    ((\"TSPC\",), [Method.LOCAL_SEARCH_GREEDY_EDGES_RANDOM]),\n",
    "    ((\"TSPC\",), [Method.LOCAL_SEARCH_GREEDY_EDGES_RANDOM]),\n",
    "    ((\"TSPC\",), [Method.LOCAL_SEARCH_GREEDY_EDGES_RANDOM]),\n",
    "    ((\"TSPC\",), [Method.LOCAL_SEARCH_GREEDY_EDGES_RANDOM]),\n",
    "    ((\"TSPC\",), [Method.LOCAL_SEARCH_GREEDY_EDGES_RANDOM]),\n",
    "    ((\"TSPC\",), [Method.LOCAL_SEARCH_GREEDY_EDGES_RANDOM]),\n",
    "    ((\"TSPC\",), [Method.LOCAL_SEARCH_GREEDY_EDGES_RANDOM]),\n",
    "    ((\"TSPC\",), [Method.LOCAL_SEARCH_GREEDY_EDGES_RANDOM]),\n",
    "    ((\"TSPC\",), [Method.LOCAL_SEARCH_GREEDY_EDGES_RANDOM]),\n",
    "]"
   ]
  },
  {
   "cell_type": "code",
   "execution_count": 14,
   "metadata": {},
   "outputs": [
    {
     "name": "stdout",
     "output_type": "stream",
     "text": [
      "\n",
      "Running TSPC instance\n",
      "Running TSPC instance\n",
      "\n",
      "Running TSPC instance\n",
      "Running TSPC instance\n",
      "Running TSPC instance\n",
      "\n",
      "\n",
      "Running TSPC instance\n",
      "\n",
      "\n",
      "Running TSPC instance\n",
      "\n",
      "Running LOCAL_SEARCH_GREEDY_EDGES_RANDOM method for 1 runs\n",
      "Running TSPC instanceRunning LOCAL_SEARCH_GREEDY_EDGES_RANDOM method for 1 runs\n",
      "Running LOCAL_SEARCH_GREEDY_EDGES_RANDOM method for 1 runsRunning LOCAL_SEARCH_GREEDY_EDGES_RANDOM method for 1 runs\n",
      "Running LOCAL_SEARCH_GREEDY_EDGES_RANDOM method for 1 runs\n",
      "\n",
      "  1 /   1Running LOCAL_SEARCH_GREEDY_EDGES_RANDOM method for 1 runs\n",
      "\n",
      "  1 /   1Running LOCAL_SEARCH_GREEDY_EDGES_RANDOM method for 1 runs\n",
      "\n",
      "  1 /   1Running LOCAL_SEARCH_GREEDY_EDGES_RANDOM method for 1 runs\n",
      "Finished LOCAL_SEARCH_GREEDY_EDGES_RANDOM method in 62.11s\n",
      "\n",
      "Running TSPC instance\n",
      "Running LOCAL_SEARCH_GREEDY_EDGES_RANDOM method for 1 runs\n",
      "Finished LOCAL_SEARCH_GREEDY_EDGES_RANDOM method in 66.30s\n",
      "\n",
      "Running TSPC instance\n",
      "Running LOCAL_SEARCH_GREEDY_EDGES_RANDOM method for 1 runs\n",
      "Finished LOCAL_SEARCH_GREEDY_EDGES_RANDOM method in 66.50s\n",
      "Finished LOCAL_SEARCH_GREEDY_EDGES_RANDOM method in 68.43s\n",
      "Finished LOCAL_SEARCH_GREEDY_EDGES_RANDOM method in 68.78s\n",
      "Finished LOCAL_SEARCH_GREEDY_EDGES_RANDOM method in 69.07s\n",
      "Finished LOCAL_SEARCH_GREEDY_EDGES_RANDOM method in 69.79s\n",
      "Finished LOCAL_SEARCH_GREEDY_EDGES_RANDOM method in 72.11s\n",
      "Finished LOCAL_SEARCH_GREEDY_EDGES_RANDOM method in 40.54s\n",
      "Finished LOCAL_SEARCH_GREEDY_EDGES_RANDOM method in 42.87s\n"
     ]
    }
   ],
   "source": [
    "with Pool() as pool:\n",
    "    grades_tmp = pool.starmap(problem.run, items)"
   ]
  },
  {
   "cell_type": "code",
   "execution_count": 18,
   "metadata": {},
   "outputs": [],
   "source": [
    "pickle.dump(grades_tmp, open(\"grades_tmp.pkl\", \"wb\"))"
   ]
  },
  {
   "cell_type": "code",
   "execution_count": null,
   "metadata": {},
   "outputs": [],
   "source": [
    "print(\"Done!\")"
   ]
  }
 ],
 "metadata": {
  "kernelspec": {
   "display_name": "ec",
   "language": "python",
   "name": "python3"
  },
  "language_info": {
   "codemirror_mode": {
    "name": "ipython",
    "version": 3
   },
   "file_extension": ".py",
   "mimetype": "text/x-python",
   "name": "python",
   "nbconvert_exporter": "python",
   "pygments_lexer": "ipython3",
   "version": "3.11.0"
  },
  "orig_nbformat": 4,
  "vscode": {
   "interpreter": {
    "hash": "93eb6a30839659615fbac2765c249690adda8b1074a5c9ea348e0ab2616831af"
   }
  }
 },
 "nbformat": 4,
 "nbformat_minor": 2
}
